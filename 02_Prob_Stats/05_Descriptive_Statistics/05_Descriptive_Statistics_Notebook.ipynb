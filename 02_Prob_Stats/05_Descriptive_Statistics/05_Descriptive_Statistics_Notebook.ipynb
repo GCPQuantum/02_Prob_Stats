{
 "cells": [
  {
   "cell_type": "code",
   "execution_count": 56,
   "id": "7c76fbaf",
   "metadata": {},
   "outputs": [],
   "source": [
    "import numpy as np\n",
    "import pandas as pd\n",
    "import seaborn as sns\n",
    "import matplotlib.pyplot as plt\n",
    "from statsmodels.distributions.empirical_distribution import ECDF"
   ]
  },
  {
   "cell_type": "code",
   "execution_count": 2,
   "id": "a0d00b45",
   "metadata": {},
   "outputs": [],
   "source": [
    "sehwag = pd.read_csv(\"sehwag.csv\")\n",
    "dravid = pd.read_csv(\"dravid.csv\")"
   ]
  },
  {
   "cell_type": "code",
   "execution_count": 3,
   "id": "a4e8ddc4",
   "metadata": {},
   "outputs": [
    {
     "data": {
      "text/plain": [
       "(245, 14)"
      ]
     },
     "execution_count": 3,
     "metadata": {},
     "output_type": "execute_result"
    }
   ],
   "source": [
    "sehwag.shape"
   ]
  },
  {
   "cell_type": "code",
   "execution_count": 4,
   "id": "d5d31b9d",
   "metadata": {},
   "outputs": [
    {
     "data": {
      "text/plain": [
       "(318, 14)"
      ]
     },
     "execution_count": 4,
     "metadata": {},
     "output_type": "execute_result"
    }
   ],
   "source": [
    "dravid.shape"
   ]
  },
  {
   "cell_type": "code",
   "execution_count": 5,
   "id": "939b6e05",
   "metadata": {},
   "outputs": [
    {
     "data": {
      "text/html": [
       "<div>\n",
       "<style scoped>\n",
       "    .dataframe tbody tr th:only-of-type {\n",
       "        vertical-align: middle;\n",
       "    }\n",
       "\n",
       "    .dataframe tbody tr th {\n",
       "        vertical-align: top;\n",
       "    }\n",
       "\n",
       "    .dataframe thead th {\n",
       "        text-align: right;\n",
       "    }\n",
       "</style>\n",
       "<table border=\"1\" class=\"dataframe\">\n",
       "  <thead>\n",
       "    <tr style=\"text-align: right;\">\n",
       "      <th></th>\n",
       "      <th>Runs</th>\n",
       "      <th>Mins</th>\n",
       "      <th>BF</th>\n",
       "      <th>4s</th>\n",
       "      <th>6s</th>\n",
       "      <th>SR</th>\n",
       "      <th>Pos</th>\n",
       "      <th>Dismissal</th>\n",
       "      <th>Inns</th>\n",
       "      <th>Unnamed: 9</th>\n",
       "      <th>Opposition</th>\n",
       "      <th>Ground</th>\n",
       "      <th>Start Date</th>\n",
       "      <th>Unnamed: 13</th>\n",
       "    </tr>\n",
       "  </thead>\n",
       "  <tbody>\n",
       "    <tr>\n",
       "      <th>0</th>\n",
       "      <td>1</td>\n",
       "      <td>5</td>\n",
       "      <td>2</td>\n",
       "      <td>0</td>\n",
       "      <td>0</td>\n",
       "      <td>50.00</td>\n",
       "      <td>7</td>\n",
       "      <td>lbw</td>\n",
       "      <td>1</td>\n",
       "      <td>NaN</td>\n",
       "      <td>v Pakistan</td>\n",
       "      <td>Mohali</td>\n",
       "      <td>1 Apr 1999</td>\n",
       "      <td>ODI # 1427</td>\n",
       "    </tr>\n",
       "    <tr>\n",
       "      <th>1</th>\n",
       "      <td>19</td>\n",
       "      <td>18</td>\n",
       "      <td>24</td>\n",
       "      <td>0</td>\n",
       "      <td>1</td>\n",
       "      <td>79.16</td>\n",
       "      <td>6</td>\n",
       "      <td>caught</td>\n",
       "      <td>1</td>\n",
       "      <td>NaN</td>\n",
       "      <td>v Zimbabwe</td>\n",
       "      <td>Rajkot</td>\n",
       "      <td>14 Dec 2000</td>\n",
       "      <td>ODI # 1660</td>\n",
       "    </tr>\n",
       "    <tr>\n",
       "      <th>2</th>\n",
       "      <td>58</td>\n",
       "      <td>62</td>\n",
       "      <td>54</td>\n",
       "      <td>8</td>\n",
       "      <td>0</td>\n",
       "      <td>107.40</td>\n",
       "      <td>6</td>\n",
       "      <td>bowled</td>\n",
       "      <td>1</td>\n",
       "      <td>NaN</td>\n",
       "      <td>v Australia</td>\n",
       "      <td>Bengaluru</td>\n",
       "      <td>25 Mar 2001</td>\n",
       "      <td>ODI # 1696</td>\n",
       "    </tr>\n",
       "    <tr>\n",
       "      <th>3</th>\n",
       "      <td>2</td>\n",
       "      <td>7</td>\n",
       "      <td>7</td>\n",
       "      <td>0</td>\n",
       "      <td>0</td>\n",
       "      <td>28.57</td>\n",
       "      <td>6</td>\n",
       "      <td>caught</td>\n",
       "      <td>2</td>\n",
       "      <td>NaN</td>\n",
       "      <td>v Zimbabwe</td>\n",
       "      <td>Bulawayo</td>\n",
       "      <td>27 Jun 2001</td>\n",
       "      <td>ODI # 1730</td>\n",
       "    </tr>\n",
       "    <tr>\n",
       "      <th>4</th>\n",
       "      <td>11</td>\n",
       "      <td>19</td>\n",
       "      <td>16</td>\n",
       "      <td>1</td>\n",
       "      <td>0</td>\n",
       "      <td>68.75</td>\n",
       "      <td>6</td>\n",
       "      <td>not out</td>\n",
       "      <td>2</td>\n",
       "      <td>NaN</td>\n",
       "      <td>v West Indies</td>\n",
       "      <td>Bulawayo</td>\n",
       "      <td>30 Jun 2001</td>\n",
       "      <td>ODI # 1731</td>\n",
       "    </tr>\n",
       "    <tr>\n",
       "      <th>...</th>\n",
       "      <td>...</td>\n",
       "      <td>...</td>\n",
       "      <td>...</td>\n",
       "      <td>...</td>\n",
       "      <td>...</td>\n",
       "      <td>...</td>\n",
       "      <td>...</td>\n",
       "      <td>...</td>\n",
       "      <td>...</td>\n",
       "      <td>...</td>\n",
       "      <td>...</td>\n",
       "      <td>...</td>\n",
       "      <td>...</td>\n",
       "      <td>...</td>\n",
       "    </tr>\n",
       "    <tr>\n",
       "      <th>240</th>\n",
       "      <td>15</td>\n",
       "      <td>21</td>\n",
       "      <td>15</td>\n",
       "      <td>2</td>\n",
       "      <td>0</td>\n",
       "      <td>100.00</td>\n",
       "      <td>2</td>\n",
       "      <td>caught</td>\n",
       "      <td>1</td>\n",
       "      <td>NaN</td>\n",
       "      <td>v Sri Lanka</td>\n",
       "      <td>Hambantota</td>\n",
       "      <td>24 Jul 2012</td>\n",
       "      <td>ODI # 3292</td>\n",
       "    </tr>\n",
       "    <tr>\n",
       "      <th>241</th>\n",
       "      <td>3</td>\n",
       "      <td>6</td>\n",
       "      <td>6</td>\n",
       "      <td>0</td>\n",
       "      <td>0</td>\n",
       "      <td>50.00</td>\n",
       "      <td>2</td>\n",
       "      <td>caught</td>\n",
       "      <td>2</td>\n",
       "      <td>NaN</td>\n",
       "      <td>v Sri Lanka</td>\n",
       "      <td>Colombo (RPS)</td>\n",
       "      <td>28 Jul 2012</td>\n",
       "      <td>ODI # 3293</td>\n",
       "    </tr>\n",
       "    <tr>\n",
       "      <th>242</th>\n",
       "      <td>34</td>\n",
       "      <td>46</td>\n",
       "      <td>29</td>\n",
       "      <td>6</td>\n",
       "      <td>0</td>\n",
       "      <td>117.24</td>\n",
       "      <td>2</td>\n",
       "      <td>caught</td>\n",
       "      <td>2</td>\n",
       "      <td>NaN</td>\n",
       "      <td>v Sri Lanka</td>\n",
       "      <td>Colombo (RPS)</td>\n",
       "      <td>31 Jul 2012</td>\n",
       "      <td>ODI # 3294</td>\n",
       "    </tr>\n",
       "    <tr>\n",
       "      <th>243</th>\n",
       "      <td>4</td>\n",
       "      <td>20</td>\n",
       "      <td>11</td>\n",
       "      <td>1</td>\n",
       "      <td>0</td>\n",
       "      <td>36.36</td>\n",
       "      <td>2</td>\n",
       "      <td>bowled</td>\n",
       "      <td>1</td>\n",
       "      <td>NaN</td>\n",
       "      <td>v Pakistan</td>\n",
       "      <td>Chennai</td>\n",
       "      <td>30 Dec 2012</td>\n",
       "      <td>ODI # 3314</td>\n",
       "    </tr>\n",
       "    <tr>\n",
       "      <th>244</th>\n",
       "      <td>31</td>\n",
       "      <td>70</td>\n",
       "      <td>43</td>\n",
       "      <td>3</td>\n",
       "      <td>0</td>\n",
       "      <td>72.09</td>\n",
       "      <td>2</td>\n",
       "      <td>lbw</td>\n",
       "      <td>2</td>\n",
       "      <td>NaN</td>\n",
       "      <td>v Pakistan</td>\n",
       "      <td>Kolkata</td>\n",
       "      <td>3 Jan 2013</td>\n",
       "      <td>ODI # 3315</td>\n",
       "    </tr>\n",
       "  </tbody>\n",
       "</table>\n",
       "<p>245 rows × 14 columns</p>\n",
       "</div>"
      ],
      "text/plain": [
       "     Runs Mins  BF  4s  6s      SR  Pos Dismissal  Inns  Unnamed: 9  \\\n",
       "0       1    5   2   0   0   50.00    7       lbw     1         NaN   \n",
       "1      19   18  24   0   1   79.16    6    caught     1         NaN   \n",
       "2      58   62  54   8   0  107.40    6    bowled     1         NaN   \n",
       "3       2    7   7   0   0   28.57    6    caught     2         NaN   \n",
       "4      11   19  16   1   0   68.75    6   not out     2         NaN   \n",
       "..    ...  ...  ..  ..  ..     ...  ...       ...   ...         ...   \n",
       "240    15   21  15   2   0  100.00    2    caught     1         NaN   \n",
       "241     3    6   6   0   0   50.00    2    caught     2         NaN   \n",
       "242    34   46  29   6   0  117.24    2    caught     2         NaN   \n",
       "243     4   20  11   1   0   36.36    2    bowled     1         NaN   \n",
       "244    31   70  43   3   0   72.09    2       lbw     2         NaN   \n",
       "\n",
       "        Opposition         Ground   Start Date Unnamed: 13  \n",
       "0       v Pakistan         Mohali   1 Apr 1999  ODI # 1427  \n",
       "1       v Zimbabwe         Rajkot  14 Dec 2000  ODI # 1660  \n",
       "2      v Australia      Bengaluru  25 Mar 2001  ODI # 1696  \n",
       "3       v Zimbabwe       Bulawayo  27 Jun 2001  ODI # 1730  \n",
       "4    v West Indies       Bulawayo  30 Jun 2001  ODI # 1731  \n",
       "..             ...            ...          ...         ...  \n",
       "240    v Sri Lanka     Hambantota  24 Jul 2012  ODI # 3292  \n",
       "241    v Sri Lanka  Colombo (RPS)  28 Jul 2012  ODI # 3293  \n",
       "242    v Sri Lanka  Colombo (RPS)  31 Jul 2012  ODI # 3294  \n",
       "243     v Pakistan        Chennai  30 Dec 2012  ODI # 3314  \n",
       "244     v Pakistan        Kolkata   3 Jan 2013  ODI # 3315  \n",
       "\n",
       "[245 rows x 14 columns]"
      ]
     },
     "execution_count": 5,
     "metadata": {},
     "output_type": "execute_result"
    }
   ],
   "source": [
    "sehwag"
   ]
  },
  {
   "cell_type": "code",
   "execution_count": 6,
   "id": "57ebecb0",
   "metadata": {},
   "outputs": [
    {
     "data": {
      "text/plain": [
       "8.0"
      ]
     },
     "execution_count": 6,
     "metadata": {},
     "output_type": "execute_result"
    }
   ],
   "source": [
    "p_25=np.percentile(sehwag[\"Runs\"],25) # percentile of Q1\n",
    "p_25"
   ]
  },
  {
   "cell_type": "code",
   "execution_count": 7,
   "id": "15c73848",
   "metadata": {},
   "outputs": [
    {
     "data": {
      "text/plain": [
       "23.0"
      ]
     },
     "execution_count": 7,
     "metadata": {},
     "output_type": "execute_result"
    }
   ],
   "source": [
    "p_50=np.percentile(sehwag[\"Runs\"],50) # percentile of Q2\n",
    "p_50"
   ]
  },
  {
   "cell_type": "code",
   "execution_count": 8,
   "id": "4c4f5bb7",
   "metadata": {},
   "outputs": [
    {
     "data": {
      "text/plain": [
       "46.0"
      ]
     },
     "execution_count": 8,
     "metadata": {},
     "output_type": "execute_result"
    }
   ],
   "source": [
    "p_75=np.percentile(sehwag[\"Runs\"],75) # percentile of Q3\n",
    "p_75"
   ]
  },
  {
   "cell_type": "code",
   "execution_count": 9,
   "id": "ff71be21",
   "metadata": {},
   "outputs": [
    {
     "data": {
      "text/plain": [
       "38.0"
      ]
     },
     "execution_count": 9,
     "metadata": {},
     "output_type": "execute_result"
    }
   ],
   "source": [
    "iqr=p_75-p_25\n",
    "iqr"
   ]
  },
  {
   "cell_type": "code",
   "execution_count": 10,
   "id": "3f2cce67",
   "metadata": {},
   "outputs": [
    {
     "data": {
      "text/plain": [
       "219"
      ]
     },
     "execution_count": 10,
     "metadata": {},
     "output_type": "execute_result"
    }
   ],
   "source": [
    "range1=(sehwag[\"Runs\"].max()-sehwag[\"Runs\"].min())\n",
    "range1"
   ]
  },
  {
   "cell_type": "code",
   "execution_count": 11,
   "id": "83ca57ff",
   "metadata": {},
   "outputs": [
    {
     "data": {
      "text/plain": [
       "8.0"
      ]
     },
     "execution_count": 11,
     "metadata": {},
     "output_type": "execute_result"
    }
   ],
   "source": [
    "sehwag[\"Runs\"].quantile(.25)"
   ]
  },
  {
   "cell_type": "code",
   "execution_count": 13,
   "id": "113cb0dd",
   "metadata": {},
   "outputs": [
    {
     "data": {
      "text/plain": [
       "23.0"
      ]
     },
     "execution_count": 13,
     "metadata": {},
     "output_type": "execute_result"
    }
   ],
   "source": [
    "sehwag[\"Runs\"].quantile(.5)"
   ]
  },
  {
   "cell_type": "code",
   "execution_count": 14,
   "id": "1a9de082",
   "metadata": {},
   "outputs": [
    {
     "data": {
      "text/plain": [
       "46.0"
      ]
     },
     "execution_count": 14,
     "metadata": {},
     "output_type": "execute_result"
    }
   ],
   "source": [
    "sehwag[\"Runs\"].quantile(.75)"
   ]
  },
  {
   "cell_type": "code",
   "execution_count": 21,
   "id": "00a56122",
   "metadata": {},
   "outputs": [
    {
     "data": {
      "text/plain": [
       "0"
      ]
     },
     "execution_count": 21,
     "metadata": {},
     "output_type": "execute_result"
    }
   ],
   "source": [
    "lower= max(p_25-(1.5*iqr),sehwag[\"Runs\"].min())\n",
    "lower"
   ]
  },
  {
   "cell_type": "code",
   "execution_count": 22,
   "id": "38d51955",
   "metadata": {},
   "outputs": [
    {
     "data": {
      "text/plain": [
       "103.0"
      ]
     },
     "execution_count": 22,
     "metadata": {},
     "output_type": "execute_result"
    }
   ],
   "source": [
    "upper= min(p_75+(1.5*iqr),sehwag[\"Runs\"].max())\n",
    "upper"
   ]
  },
  {
   "cell_type": "code",
   "execution_count": 23,
   "id": "cbe53c10",
   "metadata": {},
   "outputs": [
    {
     "data": {
      "image/png": "[encoded data removed]",
      "text/plain": [
       "<Figure size 432x288 with 1 Axes>"
      ]
     },
     "metadata": {
      "needs_background": "light"
     },
     "output_type": "display_data"
    }
   ],
   "source": [
    "sns.boxplot(x=sehwag[\"Runs\"])\n",
    "plt.show()"
   ]
  },
  {
   "cell_type": "code",
   "execution_count": 26,
   "id": "0fa29180",
   "metadata": {},
   "outputs": [
    {
     "data": {
      "text/plain": [
       "(14,)"
      ]
     },
     "execution_count": 26,
     "metadata": {},
     "output_type": "execute_result"
    }
   ],
   "source": [
    "sehwags_outlier= sehwag[sehwag[\"Runs\"]>upper]\n",
    "sehwags_outlier[\"Runs\"].shape"
   ]
  },
  {
   "cell_type": "code",
   "execution_count": 28,
   "id": "90d8fda5",
   "metadata": {},
   "outputs": [
    {
     "data": {
      "text/plain": [
       "(245, 14)"
      ]
     },
     "execution_count": 28,
     "metadata": {},
     "output_type": "execute_result"
    }
   ],
   "source": [
    "sehwag.shape"
   ]
  },
  {
   "cell_type": "code",
   "execution_count": 29,
   "id": "ebe5854f",
   "metadata": {},
   "outputs": [
    {
     "data": {
      "text/plain": [
       "0.05714285714285714"
      ]
     },
     "execution_count": 29,
     "metadata": {},
     "output_type": "execute_result"
    }
   ],
   "source": [
    "14/245"
   ]
  },
  {
   "cell_type": "code",
   "execution_count": 36,
   "id": "e9eb2d49",
   "metadata": {},
   "outputs": [
    {
     "data": {
      "text/plain": [
       "count    318.000000\n",
       "mean      34.242138\n",
       "std       29.681822\n",
       "min        0.000000\n",
       "25%       10.000000\n",
       "50%       26.000000\n",
       "75%       54.000000\n",
       "max      153.000000\n",
       "Name: Runs, dtype: float64"
      ]
     },
     "execution_count": 36,
     "metadata": {},
     "output_type": "execute_result"
    }
   ],
   "source": [
    "describe_d=dravid[\"Runs\"].describe()\n",
    "describe_d"
   ]
  },
  {
   "cell_type": "code",
   "execution_count": 38,
   "id": "e0a85044",
   "metadata": {},
   "outputs": [
    {
     "data": {
      "text/plain": [
       "153.0"
      ]
     },
     "execution_count": 38,
     "metadata": {},
     "output_type": "execute_result"
    }
   ],
   "source": [
    "describe_d.loc[\"max\"]"
   ]
  },
  {
   "cell_type": "code",
   "execution_count": 31,
   "id": "63195413",
   "metadata": {},
   "outputs": [
    {
     "name": "stdout",
     "output_type": "stream",
     "text": [
      "10.0 26.0 54.0\n"
     ]
    }
   ],
   "source": [
    "d_25=dravid[\"Runs\"].quantile(.25)\n",
    "d_50=dravid[\"Runs\"].quantile(.5)\n",
    "d_75=dravid[\"Runs\"].quantile(.75)\n",
    "print(d_25,d_50,d_75)"
   ]
  },
  {
   "cell_type": "code",
   "execution_count": 39,
   "id": "13c5da0f",
   "metadata": {},
   "outputs": [
    {
     "data": {
      "text/plain": [
       "111.0"
      ]
     },
     "execution_count": 39,
     "metadata": {},
     "output_type": "execute_result"
    }
   ],
   "source": [
    "lower_d=max(d_25-(1.5*iqr),dravid[\"Runs\"].min())\n",
    "\n",
    "upper_d=min(d_75+(1.5*iqr),dravid[\"Runs\"].max())\n",
    "iqr_d=upper_d-lower_d\n",
    "iqr_d"
   ]
  },
  {
   "cell_type": "code",
   "execution_count": 41,
   "id": "03647309",
   "metadata": {},
   "outputs": [
    {
     "data": {
      "text/plain": [
       "(4,)"
      ]
     },
     "execution_count": 41,
     "metadata": {},
     "output_type": "execute_result"
    }
   ],
   "source": [
    "dravid_outlier= dravid[dravid[\"Runs\"]>upper_d]\n",
    "dravid_outlier[\"Runs\"].shape"
   ]
  },
  {
   "cell_type": "code",
   "execution_count": 42,
   "id": "6cced584",
   "metadata": {},
   "outputs": [
    {
     "data": {
      "text/plain": [
       "(318, 14)"
      ]
     },
     "execution_count": 42,
     "metadata": {},
     "output_type": "execute_result"
    }
   ],
   "source": [
    "dravid.shape"
   ]
  },
  {
   "cell_type": "code",
   "execution_count": 44,
   "id": "8ba70799",
   "metadata": {},
   "outputs": [
    {
     "data": {
      "text/plain": [
       "0.012578616352201259"
      ]
     },
     "execution_count": 44,
     "metadata": {},
     "output_type": "execute_result"
    }
   ],
   "source": [
    "4/318"
   ]
  },
  {
   "cell_type": "code",
   "execution_count": 45,
   "id": "82c775e1",
   "metadata": {},
   "outputs": [
    {
     "data": {
      "text/plain": [
       "[                    Player       Span  Mat  Inns  NO  Runs    HS    Ave    BF  \\\n",
       " 0            V Kohli (IND)  2010-2022  115   107  31  4008  122*  52.73  2905   \n",
       " 1          RG Sharma (IND)  2007-2022  148   140  17  3853   118  31.32  2767   \n",
       " 2          MJ Guptill (NZ)  2009-2022  122   118   7  3531   105  31.81  2602   \n",
       " 3         Babar Azam (PAK)  2016-2023  104    98  14  3485   122  41.48  2714   \n",
       " 4        PR Stirling (IRE)  2009-2023  124   123   9  3275  115*  28.72  2410   \n",
       " ..                     ...        ...  ...   ...  ..   ...   ...    ...   ...   \n",
       " 95   Riazat Ali Shah (UGA)  2019-2023   48    43  13  1075   98*  35.83   832   \n",
       " 96       LD Chandimal (SL)  2010-2022   68    61   7  1062   66*  19.66  1025   \n",
       " 97        Ahmed Faiz (MAL)  2019-2023   48    43   5  1057    86  27.81   858   \n",
       " 98    Jatinder Singh (OMA)  2015-2022   46    46   6  1056   73*  26.40   899   \n",
       " 99  HE van der Dussen (SA)  2018-2022   41    37   8  1044   94*  36.00   811   \n",
       " \n",
       "         SR 100  50   0   4s   6s  \n",
       " 0   137.96   1  37   4  356  117  \n",
       " 1   139.24   4  29  10  348  182  \n",
       " 2   135.70   2  20   3  309  173  \n",
       " 3   128.40   3  30   5  371   53  \n",
       " 4   135.89   1  22  12  374  121  \n",
       " ..     ...  ..  ..  ..  ...  ...  \n",
       " 95  129.20   -   4   3   77   50  \n",
       " 96  103.60   -   6   -   90   22  \n",
       " 97  123.19   -   5   2   85   40  \n",
       " 98  117.46   -   5   3  107   21  \n",
       " 99  128.72   -   7   1   66   45  \n",
       " \n",
       " [100 rows x 15 columns]]"
      ]
     },
     "execution_count": 45,
     "metadata": {},
     "output_type": "execute_result"
    }
   ],
   "source": [
    "data=pd.read_html(\"https://www.espncricinfo.com/records/most-runs-in-career-282827\")\n",
    "data"
   ]
  },
  {
   "cell_type": "code",
   "execution_count": 46,
   "id": "637e9926",
   "metadata": {},
   "outputs": [
    {
     "data": {
      "text/plain": [
       "list"
      ]
     },
     "execution_count": 46,
     "metadata": {},
     "output_type": "execute_result"
    }
   ],
   "source": [
    "type(data)"
   ]
  },
  {
   "cell_type": "code",
   "execution_count": 48,
   "id": "6db0e464",
   "metadata": {},
   "outputs": [
    {
     "data": {
      "text/html": [
       "<div>\n",
       "<style scoped>\n",
       "    .dataframe tbody tr th:only-of-type {\n",
       "        vertical-align: middle;\n",
       "    }\n",
       "\n",
       "    .dataframe tbody tr th {\n",
       "        vertical-align: top;\n",
       "    }\n",
       "\n",
       "    .dataframe thead th {\n",
       "        text-align: right;\n",
       "    }\n",
       "</style>\n",
       "<table border=\"1\" class=\"dataframe\">\n",
       "  <thead>\n",
       "    <tr style=\"text-align: right;\">\n",
       "      <th></th>\n",
       "      <th>Player</th>\n",
       "      <th>Span</th>\n",
       "      <th>Mat</th>\n",
       "      <th>Inns</th>\n",
       "      <th>NO</th>\n",
       "      <th>Runs</th>\n",
       "      <th>HS</th>\n",
       "      <th>Ave</th>\n",
       "      <th>BF</th>\n",
       "      <th>SR</th>\n",
       "      <th>100</th>\n",
       "      <th>50</th>\n",
       "      <th>0</th>\n",
       "      <th>4s</th>\n",
       "      <th>6s</th>\n",
       "    </tr>\n",
       "  </thead>\n",
       "  <tbody>\n",
       "    <tr>\n",
       "      <th>0</th>\n",
       "      <td>V Kohli (IND)</td>\n",
       "      <td>2010-2022</td>\n",
       "      <td>115</td>\n",
       "      <td>107</td>\n",
       "      <td>31</td>\n",
       "      <td>4008</td>\n",
       "      <td>122*</td>\n",
       "      <td>52.73</td>\n",
       "      <td>2905</td>\n",
       "      <td>137.96</td>\n",
       "      <td>1</td>\n",
       "      <td>37</td>\n",
       "      <td>4</td>\n",
       "      <td>356</td>\n",
       "      <td>117</td>\n",
       "    </tr>\n",
       "    <tr>\n",
       "      <th>1</th>\n",
       "      <td>RG Sharma (IND)</td>\n",
       "      <td>2007-2022</td>\n",
       "      <td>148</td>\n",
       "      <td>140</td>\n",
       "      <td>17</td>\n",
       "      <td>3853</td>\n",
       "      <td>118</td>\n",
       "      <td>31.32</td>\n",
       "      <td>2767</td>\n",
       "      <td>139.24</td>\n",
       "      <td>4</td>\n",
       "      <td>29</td>\n",
       "      <td>10</td>\n",
       "      <td>348</td>\n",
       "      <td>182</td>\n",
       "    </tr>\n",
       "    <tr>\n",
       "      <th>2</th>\n",
       "      <td>MJ Guptill (NZ)</td>\n",
       "      <td>2009-2022</td>\n",
       "      <td>122</td>\n",
       "      <td>118</td>\n",
       "      <td>7</td>\n",
       "      <td>3531</td>\n",
       "      <td>105</td>\n",
       "      <td>31.81</td>\n",
       "      <td>2602</td>\n",
       "      <td>135.70</td>\n",
       "      <td>2</td>\n",
       "      <td>20</td>\n",
       "      <td>3</td>\n",
       "      <td>309</td>\n",
       "      <td>173</td>\n",
       "    </tr>\n",
       "    <tr>\n",
       "      <th>3</th>\n",
       "      <td>Babar Azam (PAK)</td>\n",
       "      <td>2016-2023</td>\n",
       "      <td>104</td>\n",
       "      <td>98</td>\n",
       "      <td>14</td>\n",
       "      <td>3485</td>\n",
       "      <td>122</td>\n",
       "      <td>41.48</td>\n",
       "      <td>2714</td>\n",
       "      <td>128.40</td>\n",
       "      <td>3</td>\n",
       "      <td>30</td>\n",
       "      <td>5</td>\n",
       "      <td>371</td>\n",
       "      <td>53</td>\n",
       "    </tr>\n",
       "    <tr>\n",
       "      <th>4</th>\n",
       "      <td>PR Stirling (IRE)</td>\n",
       "      <td>2009-2023</td>\n",
       "      <td>124</td>\n",
       "      <td>123</td>\n",
       "      <td>9</td>\n",
       "      <td>3275</td>\n",
       "      <td>115*</td>\n",
       "      <td>28.72</td>\n",
       "      <td>2410</td>\n",
       "      <td>135.89</td>\n",
       "      <td>1</td>\n",
       "      <td>22</td>\n",
       "      <td>12</td>\n",
       "      <td>374</td>\n",
       "      <td>121</td>\n",
       "    </tr>\n",
       "    <tr>\n",
       "      <th>...</th>\n",
       "      <td>...</td>\n",
       "      <td>...</td>\n",
       "      <td>...</td>\n",
       "      <td>...</td>\n",
       "      <td>...</td>\n",
       "      <td>...</td>\n",
       "      <td>...</td>\n",
       "      <td>...</td>\n",
       "      <td>...</td>\n",
       "      <td>...</td>\n",
       "      <td>...</td>\n",
       "      <td>...</td>\n",
       "      <td>...</td>\n",
       "      <td>...</td>\n",
       "      <td>...</td>\n",
       "    </tr>\n",
       "    <tr>\n",
       "      <th>95</th>\n",
       "      <td>Riazat Ali Shah (UGA)</td>\n",
       "      <td>2019-2023</td>\n",
       "      <td>48</td>\n",
       "      <td>43</td>\n",
       "      <td>13</td>\n",
       "      <td>1075</td>\n",
       "      <td>98*</td>\n",
       "      <td>35.83</td>\n",
       "      <td>832</td>\n",
       "      <td>129.20</td>\n",
       "      <td>-</td>\n",
       "      <td>4</td>\n",
       "      <td>3</td>\n",
       "      <td>77</td>\n",
       "      <td>50</td>\n",
       "    </tr>\n",
       "    <tr>\n",
       "      <th>96</th>\n",
       "      <td>LD Chandimal (SL)</td>\n",
       "      <td>2010-2022</td>\n",
       "      <td>68</td>\n",
       "      <td>61</td>\n",
       "      <td>7</td>\n",
       "      <td>1062</td>\n",
       "      <td>66*</td>\n",
       "      <td>19.66</td>\n",
       "      <td>1025</td>\n",
       "      <td>103.60</td>\n",
       "      <td>-</td>\n",
       "      <td>6</td>\n",
       "      <td>-</td>\n",
       "      <td>90</td>\n",
       "      <td>22</td>\n",
       "    </tr>\n",
       "    <tr>\n",
       "      <th>97</th>\n",
       "      <td>Ahmed Faiz (MAL)</td>\n",
       "      <td>2019-2023</td>\n",
       "      <td>48</td>\n",
       "      <td>43</td>\n",
       "      <td>5</td>\n",
       "      <td>1057</td>\n",
       "      <td>86</td>\n",
       "      <td>27.81</td>\n",
       "      <td>858</td>\n",
       "      <td>123.19</td>\n",
       "      <td>-</td>\n",
       "      <td>5</td>\n",
       "      <td>2</td>\n",
       "      <td>85</td>\n",
       "      <td>40</td>\n",
       "    </tr>\n",
       "    <tr>\n",
       "      <th>98</th>\n",
       "      <td>Jatinder Singh (OMA)</td>\n",
       "      <td>2015-2022</td>\n",
       "      <td>46</td>\n",
       "      <td>46</td>\n",
       "      <td>6</td>\n",
       "      <td>1056</td>\n",
       "      <td>73*</td>\n",
       "      <td>26.40</td>\n",
       "      <td>899</td>\n",
       "      <td>117.46</td>\n",
       "      <td>-</td>\n",
       "      <td>5</td>\n",
       "      <td>3</td>\n",
       "      <td>107</td>\n",
       "      <td>21</td>\n",
       "    </tr>\n",
       "    <tr>\n",
       "      <th>99</th>\n",
       "      <td>HE van der Dussen (SA)</td>\n",
       "      <td>2018-2022</td>\n",
       "      <td>41</td>\n",
       "      <td>37</td>\n",
       "      <td>8</td>\n",
       "      <td>1044</td>\n",
       "      <td>94*</td>\n",
       "      <td>36.00</td>\n",
       "      <td>811</td>\n",
       "      <td>128.72</td>\n",
       "      <td>-</td>\n",
       "      <td>7</td>\n",
       "      <td>1</td>\n",
       "      <td>66</td>\n",
       "      <td>45</td>\n",
       "    </tr>\n",
       "  </tbody>\n",
       "</table>\n",
       "<p>100 rows × 15 columns</p>\n",
       "</div>"
      ],
      "text/plain": [
       "                    Player       Span  Mat  Inns  NO  Runs    HS    Ave    BF  \\\n",
       "0            V Kohli (IND)  2010-2022  115   107  31  4008  122*  52.73  2905   \n",
       "1          RG Sharma (IND)  2007-2022  148   140  17  3853   118  31.32  2767   \n",
       "2          MJ Guptill (NZ)  2009-2022  122   118   7  3531   105  31.81  2602   \n",
       "3         Babar Azam (PAK)  2016-2023  104    98  14  3485   122  41.48  2714   \n",
       "4        PR Stirling (IRE)  2009-2023  124   123   9  3275  115*  28.72  2410   \n",
       "..                     ...        ...  ...   ...  ..   ...   ...    ...   ...   \n",
       "95   Riazat Ali Shah (UGA)  2019-2023   48    43  13  1075   98*  35.83   832   \n",
       "96       LD Chandimal (SL)  2010-2022   68    61   7  1062   66*  19.66  1025   \n",
       "97        Ahmed Faiz (MAL)  2019-2023   48    43   5  1057    86  27.81   858   \n",
       "98    Jatinder Singh (OMA)  2015-2022   46    46   6  1056   73*  26.40   899   \n",
       "99  HE van der Dussen (SA)  2018-2022   41    37   8  1044   94*  36.00   811   \n",
       "\n",
       "        SR 100  50   0   4s   6s  \n",
       "0   137.96   1  37   4  356  117  \n",
       "1   139.24   4  29  10  348  182  \n",
       "2   135.70   2  20   3  309  173  \n",
       "3   128.40   3  30   5  371   53  \n",
       "4   135.89   1  22  12  374  121  \n",
       "..     ...  ..  ..  ..  ...  ...  \n",
       "95  129.20   -   4   3   77   50  \n",
       "96  103.60   -   6   -   90   22  \n",
       "97  123.19   -   5   2   85   40  \n",
       "98  117.46   -   5   3  107   21  \n",
       "99  128.72   -   7   1   66   45  \n",
       "\n",
       "[100 rows x 15 columns]"
      ]
     },
     "execution_count": 48,
     "metadata": {},
     "output_type": "execute_result"
    }
   ],
   "source": [
    "data[0]"
   ]
  },
  {
   "cell_type": "code",
   "execution_count": 49,
   "id": "8b5aa79f",
   "metadata": {},
   "outputs": [
    {
     "name": "stdout",
     "output_type": "stream",
     "text": [
      "04_Descriptive_Statistics_Notebook.ipynb\r\n",
      "05_Descriptive_Statistics_Notebook.ipynb\r\n",
      "05_Descriptive_Statistics_Notebook.pdf\r\n",
      "05_Descriptive_Statistics_Scribble_Notes.pdf\r\n",
      "05_Descriptive_Statistics_Typed_Notes.pdf\r\n",
      "dravid.csv\r\n",
      "sehwag.csv\r\n",
      "weight-height.csv\r\n"
     ]
    }
   ],
   "source": [
    "!ls "
   ]
  },
  {
   "cell_type": "code",
   "execution_count": 50,
   "id": "4711ec6d",
   "metadata": {},
   "outputs": [
    {
     "data": {
      "text/html": [
       "<div>\n",
       "<style scoped>\n",
       "    .dataframe tbody tr th:only-of-type {\n",
       "        vertical-align: middle;\n",
       "    }\n",
       "\n",
       "    .dataframe tbody tr th {\n",
       "        vertical-align: top;\n",
       "    }\n",
       "\n",
       "    .dataframe thead th {\n",
       "        text-align: right;\n",
       "    }\n",
       "</style>\n",
       "<table border=\"1\" class=\"dataframe\">\n",
       "  <thead>\n",
       "    <tr style=\"text-align: right;\">\n",
       "      <th></th>\n",
       "      <th>Gender</th>\n",
       "      <th>Height</th>\n",
       "      <th>Weight</th>\n",
       "    </tr>\n",
       "  </thead>\n",
       "  <tbody>\n",
       "    <tr>\n",
       "      <th>0</th>\n",
       "      <td>Male</td>\n",
       "      <td>73.847017</td>\n",
       "      <td>241.893563</td>\n",
       "    </tr>\n",
       "    <tr>\n",
       "      <th>1</th>\n",
       "      <td>Male</td>\n",
       "      <td>68.781904</td>\n",
       "      <td>162.310473</td>\n",
       "    </tr>\n",
       "    <tr>\n",
       "      <th>2</th>\n",
       "      <td>Male</td>\n",
       "      <td>74.110105</td>\n",
       "      <td>212.740856</td>\n",
       "    </tr>\n",
       "    <tr>\n",
       "      <th>3</th>\n",
       "      <td>Male</td>\n",
       "      <td>71.730978</td>\n",
       "      <td>220.042470</td>\n",
       "    </tr>\n",
       "    <tr>\n",
       "      <th>4</th>\n",
       "      <td>Male</td>\n",
       "      <td>69.881796</td>\n",
       "      <td>206.349801</td>\n",
       "    </tr>\n",
       "    <tr>\n",
       "      <th>...</th>\n",
       "      <td>...</td>\n",
       "      <td>...</td>\n",
       "      <td>...</td>\n",
       "    </tr>\n",
       "    <tr>\n",
       "      <th>9995</th>\n",
       "      <td>Female</td>\n",
       "      <td>66.172652</td>\n",
       "      <td>136.777454</td>\n",
       "    </tr>\n",
       "    <tr>\n",
       "      <th>9996</th>\n",
       "      <td>Female</td>\n",
       "      <td>67.067155</td>\n",
       "      <td>170.867906</td>\n",
       "    </tr>\n",
       "    <tr>\n",
       "      <th>9997</th>\n",
       "      <td>Female</td>\n",
       "      <td>63.867992</td>\n",
       "      <td>128.475319</td>\n",
       "    </tr>\n",
       "    <tr>\n",
       "      <th>9998</th>\n",
       "      <td>Female</td>\n",
       "      <td>69.034243</td>\n",
       "      <td>163.852461</td>\n",
       "    </tr>\n",
       "    <tr>\n",
       "      <th>9999</th>\n",
       "      <td>Female</td>\n",
       "      <td>61.944246</td>\n",
       "      <td>113.649103</td>\n",
       "    </tr>\n",
       "  </tbody>\n",
       "</table>\n",
       "<p>10000 rows × 3 columns</p>\n",
       "</div>"
      ],
      "text/plain": [
       "      Gender     Height      Weight\n",
       "0       Male  73.847017  241.893563\n",
       "1       Male  68.781904  162.310473\n",
       "2       Male  74.110105  212.740856\n",
       "3       Male  71.730978  220.042470\n",
       "4       Male  69.881796  206.349801\n",
       "...      ...        ...         ...\n",
       "9995  Female  66.172652  136.777454\n",
       "9996  Female  67.067155  170.867906\n",
       "9997  Female  63.867992  128.475319\n",
       "9998  Female  69.034243  163.852461\n",
       "9999  Female  61.944246  113.649103\n",
       "\n",
       "[10000 rows x 3 columns]"
      ]
     },
     "execution_count": 50,
     "metadata": {},
     "output_type": "execute_result"
    }
   ],
   "source": [
    "df_hw=pd.read_csv(\"weight-height.csv\")\n",
    "df_hw"
   ]
  },
  {
   "cell_type": "code",
   "execution_count": 51,
   "id": "283126f6",
   "metadata": {},
   "outputs": [
    {
     "data": {
      "text/plain": [
       "0       73.847017\n",
       "1       68.781904\n",
       "2       74.110105\n",
       "3       71.730978\n",
       "4       69.881796\n",
       "          ...    \n",
       "9995    66.172652\n",
       "9996    67.067155\n",
       "9997    63.867992\n",
       "9998    69.034243\n",
       "9999    61.944246\n",
       "Name: Height, Length: 10000, dtype: float64"
      ]
     },
     "execution_count": 51,
     "metadata": {},
     "output_type": "execute_result"
    }
   ],
   "source": [
    "df_hw[\"Height\"]"
   ]
  },
  {
   "cell_type": "code",
   "execution_count": 52,
   "id": "e0287766",
   "metadata": {},
   "outputs": [
    {
     "data": {
      "text/plain": [
       "count    10000.000000\n",
       "mean        66.367560\n",
       "std          3.847528\n",
       "min         54.263133\n",
       "25%         63.505620\n",
       "50%         66.318070\n",
       "75%         69.174262\n",
       "max         78.998742\n",
       "Name: Height, dtype: float64"
      ]
     },
     "execution_count": 52,
     "metadata": {},
     "output_type": "execute_result"
    }
   ],
   "source": [
    "df_hw[\"Height\"].describe()"
   ]
  },
  {
   "cell_type": "code",
   "execution_count": 53,
   "id": "e294f950",
   "metadata": {},
   "outputs": [
    {
     "data": {
      "text/plain": [
       "<seaborn.axisgrid.FacetGrid at 0x7fe6ec588640>"
      ]
     },
     "execution_count": 53,
     "metadata": {},
     "output_type": "execute_result"
    },
    {
     "data": {
      "image/png": "[encoded data removed]",
      "text/plain": [
       "<Figure size 360x360 with 1 Axes>"
      ]
     },
     "metadata": {
      "needs_background": "light"
     },
     "output_type": "display_data"
    }
   ],
   "source": [
    "sns.displot(df_hw[\"Height\"])"
   ]
  },
  {
   "cell_type": "code",
   "execution_count": 54,
   "id": "34377d70",
   "metadata": {},
   "outputs": [
    {
     "data": {
      "text/plain": [
       "<AxesSubplot:xlabel='Height', ylabel='Density'>"
      ]
     },
     "execution_count": 54,
     "metadata": {},
     "output_type": "execute_result"
    },
    {
     "data": {
      "image/png": "[encoded data removed]",
      "text/plain": [
       "<Figure size 432x288 with 1 Axes>"
      ]
     },
     "metadata": {
      "needs_background": "light"
     },
     "output_type": "display_data"
    }
   ],
   "source": [
    "sns.kdeplot(df_hw[\"Height\"])"
   ]
  },
  {
   "cell_type": "code",
   "execution_count": 55,
   "id": "9c22dde8",
   "metadata": {},
   "outputs": [
    {
     "data": {
      "text/plain": [
       "0       73.847017\n",
       "1       68.781904\n",
       "2       74.110105\n",
       "3       71.730978\n",
       "4       69.881796\n",
       "          ...    \n",
       "9995    66.172652\n",
       "9996    67.067155\n",
       "9997    63.867992\n",
       "9998    69.034243\n",
       "9999    61.944246\n",
       "Name: Height, Length: 10000, dtype: float64"
      ]
     },
     "execution_count": 55,
     "metadata": {},
     "output_type": "execute_result"
    }
   ],
   "source": [
    "df_hw[\"Height\"]"
   ]
  },
  {
   "cell_type": "code",
   "execution_count": 61,
   "id": "7e64efc9",
   "metadata": {},
   "outputs": [],
   "source": [
    "e=ECDF(df_hw[\"Height\"])"
   ]
  },
  {
   "cell_type": "code",
   "execution_count": null,
   "id": "51a21914",
   "metadata": {},
   "outputs": [],
   "source": []
  },
  {
   "cell_type": "code",
   "execution_count": 62,
   "id": "7ac14a4c",
   "metadata": {},
   "outputs": [
    {
     "data": {
      "text/plain": [
       "[<matplotlib.lines.Line2D at 0x7fe6e9de8f10>]"
      ]
     },
     "execution_count": 62,
     "metadata": {},
     "output_type": "execute_result"
    },
    {
     "data": {
      "image/png": "[encoded data removed]",
      "text/plain": [
       "<Figure size 432x288 with 1 Axes>"
      ]
     },
     "metadata": {
      "needs_background": "light"
     },
     "output_type": "display_data"
    }
   ],
   "source": [
    "plt.plot(e.x,e.y)"
   ]
  },
  {
   "cell_type": "code",
   "execution_count": 67,
   "id": "c1265002",
   "metadata": {},
   "outputs": [
    {
     "data": {
      "text/plain": [
       "78.9987423463896"
      ]
     },
     "execution_count": 67,
     "metadata": {},
     "output_type": "execute_result"
    }
   ],
   "source": [
    "min_height= df_hw[\"Height\"].min()\n",
    "max_height= df_hw[\"Height\"].max()\n",
    "max_height"
   ]
  },
  {
   "cell_type": "code",
   "execution_count": 68,
   "id": "57a768d1",
   "metadata": {},
   "outputs": [],
   "source": [
    "df_height=df_hw[\"Height\"]"
   ]
  },
  {
   "cell_type": "code",
   "execution_count": 65,
   "id": "3cfe1073",
   "metadata": {},
   "outputs": [],
   "source": [
    "x_values=np.linspace(min_height,max_height,1000)\n",
    "y_values=[]"
   ]
  },
  {
   "cell_type": "code",
   "execution_count": 72,
   "id": "b237c944",
   "metadata": {},
   "outputs": [
    {
     "data": {
      "text/plain": [
       "[<matplotlib.lines.Line2D at 0x7fe6eaca62e0>]"
      ]
     },
     "execution_count": 72,
     "metadata": {},
     "output_type": "execute_result"
    },
    {
     "data": {
      "image/png": "[encoded data removed]",
      "text/plain": [
       "<Figure size 432x288 with 1 Axes>"
      ]
     },
     "metadata": {
      "needs_background": "light"
     },
     "output_type": "display_data"
    }
   ],
   "source": [
    "x_values=np.linspace(min_height,max_height,1000)\n",
    "y_values=[]\n",
    "for x in x_values:\n",
    "    people_shorter_than_x = df_height[df_height<=x]\n",
    "    num_people_shorter_than_x= len(people_shorter_than_x)\n",
    "    frac_people_shorter_than_x=num_people_shorter_than_x/df_height.shape[0]\n",
    "    y_values.append(frac_people_shorter_than_x)\n",
    "plt.plot(x_values,y_values)"
   ]
  },
  {
   "cell_type": "code",
   "execution_count": 73,
   "id": "ba67e9a1",
   "metadata": {},
   "outputs": [
    {
     "data": {
      "text/plain": [
       "[<matplotlib.lines.Line2D at 0x7fe6d8d86c10>]"
      ]
     },
     "execution_count": 73,
     "metadata": {},
     "output_type": "execute_result"
    },
    {
     "data": {
      "image/png": "[encoded data removed]",
      "text/plain": [
       "<Figure size 432x288 with 1 Axes>"
      ]
     },
     "metadata": {
      "needs_background": "light"
     },
     "output_type": "display_data"
    }
   ],
   "source": [
    "plt.plot(e.x,e.y)"
   ]
  },
  {
   "cell_type": "code",
   "execution_count": null,
   "id": "b9ff3f44",
   "metadata": {},
   "outputs": [],
   "source": []
  },
  {
   "cell_type": "code",
   "execution_count": null,
   "id": "99fec580",
   "metadata": {},
   "outputs": [],
   "source": []
  },
  {
   "cell_type": "code",
   "execution_count": null,
   "id": "62d733a5",
   "metadata": {},
   "outputs": [],
   "source": []
  }
 ],
 "metadata": {
  "kernelspec": {
   "display_name": "Python 3 (ipykernel)",
   "language": "python",
   "name": "python3"
  },
  "language_info": {
   "codemirror_mode": {
    "name": "ipython",
    "version": 3
   },
   "file_extension": ".py",
   "mimetype": "text/x-python",
   "name": "python",
   "nbconvert_exporter": "python",
   "pygments_lexer": "ipython3",
   "version": "3.9.7"
  },
  "varInspector": {
   "cols": {
    "lenName": 16,
    "lenType": 16,
    "lenVar": 40
   },
   "kernels_config": {
    "python": {
     "delete_cmd_postfix": "",
     "delete_cmd_prefix": "del ",
     "library": "var_list.py",
     "varRefreshCmd": "print(var_dic_list())"
    },
    "r": {
     "delete_cmd_postfix": ") ",
     "delete_cmd_prefix": "rm(",
     "library": "var_list.r",
     "varRefreshCmd": "cat(var_dic_list()) "
    }
   },
   "types_to_exclude": [
    "module",
    "function",
    "builtin_function_or_method",
    "instance",
    "_Feature"
   ],
   "window_display": false
  }
 },
 "nbformat": 4,
 "nbformat_minor": 5
}
