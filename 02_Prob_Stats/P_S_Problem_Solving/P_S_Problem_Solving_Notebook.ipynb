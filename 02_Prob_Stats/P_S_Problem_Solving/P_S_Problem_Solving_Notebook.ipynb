{
 "cells": [
  {
   "cell_type": "code",
   "execution_count": 4,
   "id": "a1c604d8",
   "metadata": {},
   "outputs": [],
   "source": [
    "import math as m\n",
    "import numpy as np\n",
    "import pandas as pd\n",
    "import seaborn as sns\n",
    "import matplotlib.pyplot as plt\n",
    "from scipy.stats import binom,geom,norm\n",
    "import math"
   ]
  },
  {
   "cell_type": "code",
   "execution_count": 6,
   "id": "548e8fb4",
   "metadata": {},
   "outputs": [
    {
     "data": {
      "text/plain": [
       "45.34730425191832"
      ]
     },
     "execution_count": 6,
     "metadata": {},
     "output_type": "execute_result"
    }
   ],
   "source": [
    "norm.ppf(q=0.01,loc=50,scale=2)"
   ]
  },
  {
   "cell_type": "code",
   "execution_count": 7,
   "id": "097b711c",
   "metadata": {},
   "outputs": [
    {
     "data": {
      "text/plain": [
       "0.7605853690971865"
      ]
     },
     "execution_count": 7,
     "metadata": {},
     "output_type": "execute_result"
    }
   ],
   "source": [
    "norm.cdf(x=92,loc=90,scale=(15/np.sqrt(35)))-norm.cdf(x=85,loc=90,scale=(15/np.sqrt(35)))"
   ]
  },
  {
   "cell_type": "code",
   "execution_count": 8,
   "id": "f5b453b2",
   "metadata": {},
   "outputs": [
    {
     "data": {
      "text/plain": [
       "0.9873263406612659"
      ]
     },
     "execution_count": 8,
     "metadata": {},
     "output_type": "execute_result"
    }
   ],
   "source": [
    "norm.cdf(x=5.5,loc=5,scale=(0.5/np.sqrt(5)))"
   ]
  },
  {
   "cell_type": "code",
   "execution_count": 9,
   "id": "63b6c179",
   "metadata": {},
   "outputs": [
    {
     "data": {
      "text/plain": [
       "-1.9599639845400545"
      ]
     },
     "execution_count": 9,
     "metadata": {},
     "output_type": "execute_result"
    }
   ],
   "source": [
    "norm.ppf(0.025)"
   ]
  },
  {
   "cell_type": "code",
   "execution_count": 11,
   "id": "5eb7e334",
   "metadata": {},
   "outputs": [
    {
     "data": {
      "text/plain": [
       "(22.432028812367957, 25.567971187632043)"
      ]
     },
     "execution_count": 11,
     "metadata": {},
     "output_type": "execute_result"
    }
   ],
   "source": [
    "norm.interval(0.95,loc=24,scale=(8/np.sqrt(100)))"
   ]
  },
  {
   "cell_type": "code",
   "execution_count": 12,
   "id": "1d3a7c7a",
   "metadata": {},
   "outputs": [
    {
     "data": {
      "text/plain": [
       "(73.35514637304853, 76.64485362695147)"
      ]
     },
     "execution_count": 12,
     "metadata": {},
     "output_type": "execute_result"
    }
   ],
   "source": [
    "norm.interval(0.90,loc=75,scale=(10/np.sqrt(100)))"
   ]
  },
  {
   "cell_type": "code",
   "execution_count": 13,
   "id": "3d94d315",
   "metadata": {},
   "outputs": [
    {
     "data": {
      "text/plain": [
       "0.38461538461538464"
      ]
     },
     "execution_count": 13,
     "metadata": {},
     "output_type": "execute_result"
    }
   ],
   "source": [
    "(math.comb(5,1)*math.comb(6,1))/math.comb(13,2)"
   ]
  },
  {
   "cell_type": "code",
   "execution_count": 14,
   "id": "9e02a7eb",
   "metadata": {},
   "outputs": [
    {
     "data": {
      "text/plain": [
       "5"
      ]
     },
     "execution_count": 14,
     "metadata": {},
     "output_type": "execute_result"
    }
   ],
   "source": [
    "math.perm(5,1)"
   ]
  },
  {
   "cell_type": "code",
   "execution_count": 15,
   "id": "d76adf22",
   "metadata": {},
   "outputs": [
    {
     "data": {
      "text/plain": [
       "1757600"
      ]
     },
     "execution_count": 15,
     "metadata": {},
     "output_type": "execute_result"
    }
   ],
   "source": [
    "(10**2)*(26**3)"
   ]
  },
  {
   "cell_type": "code",
   "execution_count": 16,
   "id": "d8767f39",
   "metadata": {},
   "outputs": [
    {
     "data": {
      "text/plain": [
       "0.1998001998001998"
      ]
     },
     "execution_count": 16,
     "metadata": {},
     "output_type": "execute_result"
    }
   ],
   "source": [
    "(math.comb(5,2)*math.comb(4,1)*math.comb(6,2))/math.comb(15,5)"
   ]
  },
  {
   "cell_type": "code",
   "execution_count": 17,
   "id": "f6c16e47",
   "metadata": {},
   "outputs": [
    {
     "data": {
      "text/plain": [
       "1.082508822446903e-05"
      ]
     },
     "execution_count": 17,
     "metadata": {},
     "output_type": "execute_result"
    }
   ],
   "source": [
    "(2*math.factorial(10)*math.factorial(10))/math.factorial(20)"
   ]
  },
  {
   "cell_type": "code",
   "execution_count": 18,
   "id": "16400964",
   "metadata": {},
   "outputs": [
    {
     "data": {
      "text/plain": [
       "0.3455999999999997"
      ]
     },
     "execution_count": 18,
     "metadata": {},
     "output_type": "execute_result"
    }
   ],
   "source": [
    "binom.pmf(n=5,k=3,p=0.6)"
   ]
  },
  {
   "cell_type": "code",
   "execution_count": 19,
   "id": "a37c45cb",
   "metadata": {},
   "outputs": [
    {
     "data": {
      "text/plain": [
       "0.14436434635625664"
      ]
     },
     "execution_count": 19,
     "metadata": {},
     "output_type": "execute_result"
    }
   ],
   "source": [
    "binom.pmf(n=40,k=10,p=0.25)"
   ]
  },
  {
   "cell_type": "code",
   "execution_count": 20,
   "id": "a7b14e39",
   "metadata": {},
   "outputs": [
    {
     "data": {
      "text/plain": [
       "0.9375"
      ]
     },
     "execution_count": 20,
     "metadata": {},
     "output_type": "execute_result"
    }
   ],
   "source": [
    "binom.cdf(n=4,k=3,p=0.5)"
   ]
  },
  {
   "cell_type": "code",
   "execution_count": 21,
   "id": "49243f91",
   "metadata": {},
   "outputs": [
    {
     "data": {
      "text/plain": [
       "0.7667200000000001"
      ]
     },
     "execution_count": 21,
     "metadata": {},
     "output_type": "execute_result"
    }
   ],
   "source": [
    "binom.cdf(n=6,k=4,p=0.6)"
   ]
  },
  {
   "cell_type": "code",
   "execution_count": 22,
   "id": "6dfffece",
   "metadata": {},
   "outputs": [
    {
     "data": {
      "text/plain": [
       "0.7667200000000003"
      ]
     },
     "execution_count": 22,
     "metadata": {},
     "output_type": "execute_result"
    }
   ],
   "source": [
    "binom.pmf(n=6,k=0,p=0.6)+binom.pmf(n=6,k=1,p=0.6)+binom.pmf(n=6,k=2,p=0.6)+binom.pmf(n=6,k=3,p=0.6)+binom.pmf(n=6,k=4,p=0.6)"
   ]
  },
  {
   "cell_type": "code",
   "execution_count": 27,
   "id": "e75e81d2",
   "metadata": {},
   "outputs": [],
   "source": [
    "prob=[]\n",
    "b=[]\n",
    "for i in range(0,7):\n",
    "    b.append(i)\n",
    "    prob.append(binom.pmf(n=6,k=i,p=0.6))"
   ]
  },
  {
   "cell_type": "code",
   "execution_count": 28,
   "id": "e8877697",
   "metadata": {},
   "outputs": [
    {
     "data": {
      "text/plain": [
       "[0.0040960000000000015,\n",
       " 0.03686400000000002,\n",
       " 0.1382400000000001,\n",
       " 0.2764800000000001,\n",
       " 0.3110400000000001,\n",
       " 0.1866240000000001,\n",
       " 0.04665599999999999]"
      ]
     },
     "execution_count": 28,
     "metadata": {},
     "output_type": "execute_result"
    }
   ],
   "source": [
    "prob"
   ]
  },
  {
   "cell_type": "code",
   "execution_count": 31,
   "id": "3f566c40",
   "metadata": {},
   "outputs": [
    {
     "data": {
      "text/plain": [
       "<BarContainer object of 7 artists>"
      ]
     },
     "execution_count": 31,
     "metadata": {},
     "output_type": "execute_result"
    },
    {
     "data": {
      "image/png": "[encoded data removed]",
      "text/plain": [
       "<Figure size 432x288 with 1 Axes>"
      ]
     },
     "metadata": {
      "needs_background": "light"
     },
     "output_type": "display_data"
    }
   ],
   "source": [
    "plt.bar(x=b,height=prob)"
   ]
  },
  {
   "cell_type": "code",
   "execution_count": 36,
   "id": "956ad274",
   "metadata": {},
   "outputs": [
    {
     "data": {
      "text/plain": [
       "0.049772132496380066"
      ]
     },
     "execution_count": 36,
     "metadata": {},
     "output_type": "execute_result"
    }
   ],
   "source": [
    "binom.pmf(n=15000,k=0,p=0.0002)"
   ]
  },
  {
   "cell_type": "code",
   "execution_count": 33,
   "id": "4fae6964",
   "metadata": {},
   "outputs": [
    {
     "data": {
      "text/plain": [
       "0.9998"
      ]
     },
     "execution_count": 33,
     "metadata": {},
     "output_type": "execute_result"
    }
   ],
   "source": [
    "1-(0.02/100)"
   ]
  },
  {
   "cell_type": "code",
   "execution_count": 38,
   "id": "a59c03e0",
   "metadata": {},
   "outputs": [
    {
     "data": {
      "text/plain": [
       "0.9760611779412912"
      ]
     },
     "execution_count": 38,
     "metadata": {},
     "output_type": "execute_result"
    }
   ],
   "source": [
    "binom.cdf(n=10,k=3,p=0.12)"
   ]
  },
  {
   "cell_type": "code",
   "execution_count": 39,
   "id": "74e1bcf1",
   "metadata": {},
   "outputs": [
    {
     "data": {
      "text/plain": [
       "0.6561"
      ]
     },
     "execution_count": 39,
     "metadata": {},
     "output_type": "execute_result"
    }
   ],
   "source": [
    "binom.pmf(n=4,k=0,p=0.1)"
   ]
  },
  {
   "cell_type": "code",
   "execution_count": 40,
   "id": "a7417d6f",
   "metadata": {},
   "outputs": [
    {
     "data": {
      "text/plain": [
       "0.3439"
      ]
     },
     "execution_count": 40,
     "metadata": {},
     "output_type": "execute_result"
    }
   ],
   "source": [
    "1-binom.pmf(n=4,k=0,p=0.1)"
   ]
  },
  {
   "cell_type": "code",
   "execution_count": 41,
   "id": "59e4d6e6",
   "metadata": {},
   "outputs": [
    {
     "data": {
      "text/plain": [
       "0.6561"
      ]
     },
     "execution_count": 41,
     "metadata": {},
     "output_type": "execute_result"
    }
   ],
   "source": [
    "binom.cdf(n=4,k=0,p=0.1)"
   ]
  },
  {
   "cell_type": "code",
   "execution_count": 42,
   "id": "ae32c168",
   "metadata": {},
   "outputs": [
    {
     "data": {
      "text/plain": [
       "0.3439"
      ]
     },
     "execution_count": 42,
     "metadata": {},
     "output_type": "execute_result"
    }
   ],
   "source": [
    "1-binom.cdf(n=4,k=0,p=0.1)"
   ]
  },
  {
   "cell_type": "code",
   "execution_count": 43,
   "id": "6b2e0628",
   "metadata": {},
   "outputs": [
    {
     "data": {
      "text/plain": [
       "2.3756"
      ]
     },
     "execution_count": 43,
     "metadata": {},
     "output_type": "execute_result"
    }
   ],
   "source": [
    "(1*0.6561)+(5*0.3439)"
   ]
  },
  {
   "cell_type": "code",
   "execution_count": null,
   "id": "0cc4d4f8",
   "metadata": {},
   "outputs": [],
   "source": []
  }
 ],
 "metadata": {
  "kernelspec": {
   "display_name": "Python 3 (ipykernel)",
   "language": "python",
   "name": "python3"
  },
  "language_info": {
   "codemirror_mode": {
    "name": "ipython",
    "version": 3
   },
   "file_extension": ".py",
   "mimetype": "text/x-python",
   "name": "python",
   "nbconvert_exporter": "python",
   "pygments_lexer": "ipython3",
   "version": "3.9.7"
  },
  "varInspector": {
   "cols": {
    "lenName": 16,
    "lenType": 16,
    "lenVar": 40
   },
   "kernels_config": {
    "python": {
     "delete_cmd_postfix": "",
     "delete_cmd_prefix": "del ",
     "library": "var_list.py",
     "varRefreshCmd": "print(var_dic_list())"
    },
    "r": {
     "delete_cmd_postfix": ") ",
     "delete_cmd_prefix": "rm(",
     "library": "var_list.r",
     "varRefreshCmd": "cat(var_dic_list()) "
    }
   },
   "types_to_exclude": [
    "module",
    "function",
    "builtin_function_or_method",
    "instance",
    "_Feature"
   ],
   "window_display": false
  }
 },
 "nbformat": 4,
 "nbformat_minor": 5
}
