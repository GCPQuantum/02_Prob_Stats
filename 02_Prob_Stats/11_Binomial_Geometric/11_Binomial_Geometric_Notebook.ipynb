{
 "cells": [
  {
   "cell_type": "code",
   "execution_count": 6,
   "id": "725252ea",
   "metadata": {},
   "outputs": [],
   "source": [
    "import math as m\n",
    "import numpy as np\n",
    "import pandas as pd\n",
    "import seaborn as sns\n",
    "import matplotlib.pyplot as plt\n",
    "from scipy.stats import binom,geom\n",
    "import math"
   ]
  },
  {
   "cell_type": "markdown",
   "id": "c9e9bb80",
   "metadata": {},
   "source": [
    "# Casino Case Study\n",
    "\n"
   ]
  },
  {
   "cell_type": "markdown",
   "id": "4ab0dfce",
   "metadata": {},
   "source": [
    "A bag has **<font color='red'>3 Red</font>** and **<font color='blue'>2 Blue</font>** balls.\n",
    "\n",
    "You pick a ball, write its colour, and **<font color='orange'>put it back</font>** in the bag. This is done **<font color='brown'>4 Times</font>** in total.\n",
    "\n",
    "If all 4 times, the **<font color='red'>Red balls</font>** was drawn, you **<font color='green'>win Rs 150</font>**.\n",
    "\n",
    "Otherwise you **<font color='violet'>lose Rs 10</font>**.\n",
    "\n",
    "**Would you play this game?**\n"
   ]
  },
  {
   "cell_type": "markdown",
   "id": "5fa3fd7c",
   "metadata": {},
   "source": [
    "### Winning Rs. 150 "
   ]
  },
  {
   "cell_type": "code",
   "execution_count": 69,
   "id": "fb73e4a9",
   "metadata": {},
   "outputs": [
    {
     "data": {
      "text/plain": [
       "0.1296"
      ]
     },
     "execution_count": 69,
     "metadata": {},
     "output_type": "execute_result"
    }
   ],
   "source": [
    "binom.pmf(n=4,k=4,p=3/5) "
   ]
  },
  {
   "cell_type": "markdown",
   "id": "18cae47e",
   "metadata": {},
   "source": [
    "### Losing Rs. 10"
   ]
  },
  {
   "cell_type": "code",
   "execution_count": 70,
   "id": "15add0a8",
   "metadata": {},
   "outputs": [
    {
     "data": {
      "text/plain": [
       "0.8704000000000001"
      ]
     },
     "execution_count": 70,
     "metadata": {},
     "output_type": "execute_result"
    }
   ],
   "source": [
    "1-binom.pmf(n=4,k=4,p=3/5) #--> Losing Rs. 10"
   ]
  },
  {
   "cell_type": "code",
   "execution_count": 71,
   "id": "48e160ce",
   "metadata": {},
   "outputs": [
    {
     "data": {
      "text/plain": [
       "0.8704000000000001"
      ]
     },
     "execution_count": 71,
     "metadata": {},
     "output_type": "execute_result"
    }
   ],
   "source": [
    "binom.pmf(n=4,k=0,p=3/5)+binom.pmf(n=4,k=1,p=3/5)+binom.pmf(n=4,k=2,p=3/5)+binom.pmf(n=4,k=3,p=3/5)"
   ]
  },
  {
   "cell_type": "code",
   "execution_count": 72,
   "id": "54d05cd4",
   "metadata": {},
   "outputs": [
    {
     "data": {
      "text/plain": [
       "0.8704000000000001"
      ]
     },
     "execution_count": 72,
     "metadata": {},
     "output_type": "execute_result"
    }
   ],
   "source": [
    "binom.cdf(n=4,k=3,p=3/5)"
   ]
  },
  {
   "cell_type": "code",
   "execution_count": null,
   "id": "e3f200f7",
   "metadata": {},
   "outputs": [],
   "source": []
  },
  {
   "cell_type": "markdown",
   "id": "0ad47ed1",
   "metadata": {
    "heading_collapsed": true
   },
   "source": [
    "# Basics"
   ]
  },
  {
   "cell_type": "markdown",
   "id": "8fd06ad8",
   "metadata": {
    "heading_collapsed": true,
    "hidden": true
   },
   "source": [
    "## Trial -->1"
   ]
  },
  {
   "cell_type": "code",
   "execution_count": null,
   "id": "088190fb",
   "metadata": {
    "hidden": true
   },
   "outputs": [],
   "source": [
    "# I have a biased coin with P[H]=0.1, P[T]=0.9\n",
    "# Model Success --> Obtaining Heads\n",
    "# P[S]=0.1 \n",
    "# P[F]=0.9\n",
    "\n",
    "# p=0.1\n",
    "# 1-p =  0.9"
   ]
  },
  {
   "cell_type": "code",
   "execution_count": 1,
   "id": "796baa7a",
   "metadata": {
    "hidden": true
   },
   "outputs": [],
   "source": [
    "p=0.1"
   ]
  },
  {
   "cell_type": "code",
   "execution_count": 2,
   "id": "d94f6040",
   "metadata": {
    "hidden": true
   },
   "outputs": [],
   "source": [
    "# What is the prob of getting k successes in 1 trial?\n",
    "n=1\n",
    "p=0.1\n",
    "k1,k2=0,1"
   ]
  },
  {
   "cell_type": "code",
   "execution_count": 4,
   "id": "99c40c80",
   "metadata": {
    "hidden": true
   },
   "outputs": [],
   "source": [
    "# P[X=k1]=0.9\n",
    "# P[X=k2]=0.1"
   ]
  },
  {
   "cell_type": "code",
   "execution_count": 7,
   "id": "017b3a01",
   "metadata": {
    "hidden": true
   },
   "outputs": [
    {
     "data": {
      "text/plain": [
       "0.9"
      ]
     },
     "execution_count": 7,
     "metadata": {},
     "output_type": "execute_result"
    }
   ],
   "source": [
    "binom.pmf(n=1,k=0,p=0.1)"
   ]
  },
  {
   "cell_type": "code",
   "execution_count": 8,
   "id": "15827d84",
   "metadata": {
    "hidden": true
   },
   "outputs": [
    {
     "data": {
      "text/plain": [
       "0.1"
      ]
     },
     "execution_count": 8,
     "metadata": {},
     "output_type": "execute_result"
    }
   ],
   "source": [
    "binom.pmf(n=1,k=1,p=0.1)"
   ]
  },
  {
   "cell_type": "code",
   "execution_count": 9,
   "id": "f5d6669e",
   "metadata": {
    "hidden": true
   },
   "outputs": [
    {
     "data": {
      "text/plain": [
       "array([0, 1])"
      ]
     },
     "execution_count": 9,
     "metadata": {},
     "output_type": "execute_result"
    }
   ],
   "source": [
    "x=np.arange(0,2)\n",
    "x"
   ]
  },
  {
   "cell_type": "code",
   "execution_count": 16,
   "id": "81c7a2f3",
   "metadata": {
    "hidden": true
   },
   "outputs": [
    {
     "data": {
      "text/plain": [
       "<AxesSubplot:>"
      ]
     },
     "execution_count": 16,
     "metadata": {},
     "output_type": "execute_result"
    },
    {
     "data": {
      "image/png": "[encoded data removed]",
      "text/plain": [
       "<Figure size 432x288 with 1 Axes>"
      ]
     },
     "metadata": {
      "needs_background": "light"
     },
     "output_type": "display_data"
    }
   ],
   "source": [
    "sns.barplot(x=x,y=binom.pmf(n=1,k=x,p=0.1))"
   ]
  },
  {
   "cell_type": "code",
   "execution_count": 17,
   "id": "6c5ba539",
   "metadata": {
    "hidden": true
   },
   "outputs": [
    {
     "data": {
      "text/plain": [
       "<AxesSubplot:>"
      ]
     },
     "execution_count": 17,
     "metadata": {},
     "output_type": "execute_result"
    },
    {
     "data": {
      "image/png": "[encoded data removed]",
      "text/plain": [
       "<Figure size 432x288 with 1 Axes>"
      ]
     },
     "metadata": {
      "needs_background": "light"
     },
     "output_type": "display_data"
    }
   ],
   "source": [
    "sns.barplot(x=x,y=binom.pmf(n=1,k=x,p=0.5))"
   ]
  },
  {
   "cell_type": "code",
   "execution_count": 18,
   "id": "775683b7",
   "metadata": {
    "hidden": true
   },
   "outputs": [
    {
     "data": {
      "text/plain": [
       "<AxesSubplot:>"
      ]
     },
     "execution_count": 18,
     "metadata": {},
     "output_type": "execute_result"
    },
    {
     "data": {
      "image/png": "[encoded data removed]",
      "text/plain": [
       "<Figure size 432x288 with 1 Axes>"
      ]
     },
     "metadata": {
      "needs_background": "light"
     },
     "output_type": "display_data"
    }
   ],
   "source": [
    "sns.barplot(x=x,y=binom.pmf(n=1,k=x,p=0.8))"
   ]
  },
  {
   "cell_type": "markdown",
   "id": "80a13c63",
   "metadata": {
    "heading_collapsed": true,
    "hidden": true
   },
   "source": [
    "## Trial --> 2"
   ]
  },
  {
   "cell_type": "code",
   "execution_count": null,
   "id": "d2db9800",
   "metadata": {
    "hidden": true
   },
   "outputs": [],
   "source": [
    "# I have a biased coin with P[H]=0.1, P[T]=0.9\n",
    "# Model Success --> Obtaining Heads\n",
    "# P[S]=0.1 \n",
    "# P[F]=0.9\n",
    "\n",
    "# p=0.1\n",
    "# 1-p =  0.9"
   ]
  },
  {
   "cell_type": "code",
   "execution_count": 19,
   "id": "7b168e8e",
   "metadata": {
    "hidden": true
   },
   "outputs": [],
   "source": [
    "# What is the prob of getting k successes in 2 trial?\n",
    "n=2\n",
    "p=0.1\n",
    "k1=0\n",
    "k2=1\n",
    "k3=2"
   ]
  },
  {
   "cell_type": "code",
   "execution_count": 22,
   "id": "4a9ca626",
   "metadata": {
    "hidden": true
   },
   "outputs": [
    {
     "name": "stdout",
     "output_type": "stream",
     "text": [
      "0.81\n",
      "0.81\n"
     ]
    }
   ],
   "source": [
    "# P[X=0]\n",
    "print((1-p)*(1-p))\n",
    "print(binom.pmf(n=2,k=0,p=0.1))"
   ]
  },
  {
   "cell_type": "code",
   "execution_count": 23,
   "id": "aeddcc91",
   "metadata": {
    "hidden": true
   },
   "outputs": [
    {
     "name": "stdout",
     "output_type": "stream",
     "text": [
      "0.18000000000000002\n",
      "0.18000000000000005\n"
     ]
    }
   ],
   "source": [
    "# P[X=1]\n",
    "print(((1-p)*p)+(p*(1-p)))\n",
    "print(binom.pmf(n=2,k=1,p=0.1))"
   ]
  },
  {
   "cell_type": "code",
   "execution_count": 24,
   "id": "34a02664",
   "metadata": {
    "hidden": true
   },
   "outputs": [
    {
     "name": "stdout",
     "output_type": "stream",
     "text": [
      "0.010000000000000002\n",
      "0.010000000000000002\n"
     ]
    }
   ],
   "source": [
    "# P[X=2]\n",
    "print(p*p)\n",
    "print(binom.pmf(n=2,k=2,p=0.1))"
   ]
  },
  {
   "cell_type": "code",
   "execution_count": 25,
   "id": "c590eb9b",
   "metadata": {
    "hidden": true
   },
   "outputs": [
    {
     "data": {
      "text/plain": [
       "<AxesSubplot:>"
      ]
     },
     "execution_count": 25,
     "metadata": {},
     "output_type": "execute_result"
    },
    {
     "data": {
      "image/png": "[encoded data removed]",
      "text/plain": [
       "<Figure size 432x288 with 1 Axes>"
      ]
     },
     "metadata": {
      "needs_background": "light"
     },
     "output_type": "display_data"
    }
   ],
   "source": [
    "x=np.arange(0,3)\n",
    "\n",
    "sns.barplot(x=x,y=binom.pmf(n=2,k=x,p=0.1))"
   ]
  },
  {
   "cell_type": "code",
   "execution_count": 26,
   "id": "d5a5c7b4",
   "metadata": {
    "hidden": true
   },
   "outputs": [
    {
     "data": {
      "text/plain": [
       "<AxesSubplot:>"
      ]
     },
     "execution_count": 26,
     "metadata": {},
     "output_type": "execute_result"
    },
    {
     "data": {
      "image/png": "[encoded data removed]",
      "text/plain": [
       "<Figure size 432x288 with 1 Axes>"
      ]
     },
     "metadata": {
      "needs_background": "light"
     },
     "output_type": "display_data"
    }
   ],
   "source": [
    "x=np.arange(0,3)\n",
    "\n",
    "sns.barplot(x=x,y=binom.pmf(n=2,k=x,p=0.5))"
   ]
  },
  {
   "cell_type": "code",
   "execution_count": 27,
   "id": "c484d114",
   "metadata": {
    "hidden": true
   },
   "outputs": [
    {
     "data": {
      "text/plain": [
       "<AxesSubplot:>"
      ]
     },
     "execution_count": 27,
     "metadata": {},
     "output_type": "execute_result"
    },
    {
     "data": {
      "image/png": "[encoded data removed]",
      "text/plain": [
       "<Figure size 432x288 with 1 Axes>"
      ]
     },
     "metadata": {
      "needs_background": "light"
     },
     "output_type": "display_data"
    }
   ],
   "source": [
    "x=np.arange(0,3)\n",
    "sns.barplot(x=x,y=binom.pmf(n=2,k=x,p=0.9))"
   ]
  },
  {
   "cell_type": "markdown",
   "id": "cf1da61f",
   "metadata": {
    "hidden": true
   },
   "source": [
    "## Trial --> 3"
   ]
  },
  {
   "cell_type": "code",
   "execution_count": null,
   "id": "5d5bb16a",
   "metadata": {
    "hidden": true
   },
   "outputs": [],
   "source": [
    "# I have a biased coin with P[H]=0.1, P[T]=0.9\n",
    "# Model Success --> Obtaining Heads\n",
    "# P[S]=0.1 \n",
    "# P[F]=0.9\n",
    "\n",
    "# p=0.1\n",
    "# 1-p =  0.9"
   ]
  },
  {
   "cell_type": "code",
   "execution_count": 28,
   "id": "d6696b53",
   "metadata": {
    "hidden": true
   },
   "outputs": [],
   "source": [
    "# What is the prob of getting k successes in 2 trial?\n",
    "n=3\n",
    "p=0.1\n",
    "k1=0\n",
    "k2=1\n",
    "k3=2\n",
    "k4=3"
   ]
  },
  {
   "cell_type": "code",
   "execution_count": 34,
   "id": "dc6fb64e",
   "metadata": {
    "hidden": true
   },
   "outputs": [
    {
     "name": "stdout",
     "output_type": "stream",
     "text": [
      "0.7290000000000001\n",
      "0.7290000000000001\n",
      "0.7290000000000001\n"
     ]
    }
   ],
   "source": [
    "p=0.1\n",
    "# P[X=0]\n",
    "print((1-p)*(1-p)*(1-p))\n",
    "print((math.comb(3,0))*(1-p)**3)\n",
    "print(binom.pmf(n=3,k=0,p=0.1))"
   ]
  },
  {
   "cell_type": "code",
   "execution_count": 36,
   "id": "02b3d063",
   "metadata": {
    "hidden": true
   },
   "outputs": [
    {
     "name": "stdout",
     "output_type": "stream",
     "text": [
      "0.24300000000000005\n",
      "0.24300000000000005\n",
      "0.243\n"
     ]
    }
   ],
   "source": [
    "# P[X=1]\n",
    "print(((1-p)*(1-p)*p)+((1-p)*(1-p)*p)+((1-p)*(1-p)*p))\n",
    "print((math.comb(3,1))*(p**1)*((1-p)**2))\n",
    "print(binom.pmf(n=3,k=1,p=0.1))"
   ]
  },
  {
   "cell_type": "code",
   "execution_count": 37,
   "id": "d01aff15",
   "metadata": {
    "hidden": true
   },
   "outputs": [
    {
     "name": "stdout",
     "output_type": "stream",
     "text": [
      "0.027000000000000003\n",
      "0.027000000000000007\n",
      "0.027\n"
     ]
    }
   ],
   "source": [
    "# P[X=2]\n",
    "print(((p)*(1-p)*p)+((p)*(1-p)*p)+((p)*(1-p)*p))\n",
    "print((math.comb(3,2))*(p**2)*((1-p)**1))\n",
    "print(binom.pmf(n=3,k=2,p=0.1))"
   ]
  },
  {
   "cell_type": "code",
   "execution_count": 38,
   "id": "4c07bb43",
   "metadata": {
    "hidden": true
   },
   "outputs": [
    {
     "name": "stdout",
     "output_type": "stream",
     "text": [
      "0.0010000000000000002\n",
      "0.0010000000000000002\n",
      "0.0010000000000000002\n"
     ]
    }
   ],
   "source": [
    "# P[X=3]\n",
    "print(p*p*p)\n",
    "print((math.comb(3,3))*(p**3)*((1-p)**0))\n",
    "print(binom.pmf(n=3,k=3,p=0.1))"
   ]
  },
  {
   "cell_type": "code",
   "execution_count": 30,
   "id": "6df6ba86",
   "metadata": {
    "hidden": true
   },
   "outputs": [
    {
     "data": {
      "text/plain": [
       "1"
      ]
     },
     "execution_count": 30,
     "metadata": {},
     "output_type": "execute_result"
    }
   ],
   "source": [
    "math.comb(3,0)"
   ]
  },
  {
   "cell_type": "code",
   "execution_count": 31,
   "id": "fc64ac3d",
   "metadata": {
    "hidden": true
   },
   "outputs": [
    {
     "data": {
      "text/plain": [
       "3"
      ]
     },
     "execution_count": 31,
     "metadata": {},
     "output_type": "execute_result"
    }
   ],
   "source": [
    "math.comb(3,1)"
   ]
  },
  {
   "cell_type": "code",
   "execution_count": 32,
   "id": "9c8fd3a5",
   "metadata": {
    "hidden": true
   },
   "outputs": [
    {
     "data": {
      "text/plain": [
       "3"
      ]
     },
     "execution_count": 32,
     "metadata": {},
     "output_type": "execute_result"
    }
   ],
   "source": [
    "math.comb(3,2)"
   ]
  },
  {
   "cell_type": "code",
   "execution_count": 33,
   "id": "7a81db9e",
   "metadata": {
    "hidden": true
   },
   "outputs": [
    {
     "data": {
      "text/plain": [
       "1"
      ]
     },
     "execution_count": 33,
     "metadata": {},
     "output_type": "execute_result"
    }
   ],
   "source": [
    "math.comb(3,3)"
   ]
  },
  {
   "cell_type": "code",
   "execution_count": 48,
   "id": "a1f14852",
   "metadata": {
    "hidden": true
   },
   "outputs": [
    {
     "data": {
      "text/plain": [
       "0.19371024450000007"
      ]
     },
     "execution_count": 48,
     "metadata": {},
     "output_type": "execute_result"
    }
   ],
   "source": [
    "# Interview atmost 5 out of 10 ?\n",
    "binom.pmf(n=10,k=2,p=0.1)"
   ]
  },
  {
   "cell_type": "code",
   "execution_count": 49,
   "id": "e0fe9ecf",
   "metadata": {
    "hidden": true
   },
   "outputs": [
    {
     "data": {
      "text/plain": [
       "<AxesSubplot:>"
      ]
     },
     "execution_count": 49,
     "metadata": {},
     "output_type": "execute_result"
    },
    {
     "data": {
      "image/png": "[encoded data removed]",
      "text/plain": [
       "<Figure size 432x288 with 1 Axes>"
      ]
     },
     "metadata": {
      "needs_background": "light"
     },
     "output_type": "display_data"
    }
   ],
   "source": [
    "x=np.arange(0,4)\n",
    "\n",
    "sns.barplot(x=x,y=binom.pmf(n=2,k=x,p=0.1))"
   ]
  },
  {
   "cell_type": "code",
   "execution_count": 50,
   "id": "b29cc7a9",
   "metadata": {
    "hidden": true
   },
   "outputs": [
    {
     "data": {
      "text/plain": [
       "<AxesSubplot:>"
      ]
     },
     "execution_count": 50,
     "metadata": {},
     "output_type": "execute_result"
    },
    {
     "data": {
      "image/png": "[encoded data removed]",
      "text/plain": [
       "<Figure size 432x288 with 1 Axes>"
      ]
     },
     "metadata": {
      "needs_background": "light"
     },
     "output_type": "display_data"
    }
   ],
   "source": [
    "x=np.arange(0,4)\n",
    "\n",
    "sns.barplot(x=x,y=binom.pmf(n=2,k=x,p=0.3))"
   ]
  },
  {
   "cell_type": "code",
   "execution_count": 51,
   "id": "d767d717",
   "metadata": {
    "hidden": true
   },
   "outputs": [
    {
     "data": {
      "text/plain": [
       "<AxesSubplot:>"
      ]
     },
     "execution_count": 51,
     "metadata": {},
     "output_type": "execute_result"
    },
    {
     "data": {
      "image/png": "[encoded data removed]",
      "text/plain": [
       "<Figure size 432x288 with 1 Axes>"
      ]
     },
     "metadata": {
      "needs_background": "light"
     },
     "output_type": "display_data"
    }
   ],
   "source": [
    "x=np.arange(0,4)\n",
    "\n",
    "sns.barplot(x=x,y=binom.pmf(n=2,k=x,p=0.6))"
   ]
  },
  {
   "cell_type": "code",
   "execution_count": 52,
   "id": "8aacb311",
   "metadata": {
    "hidden": true
   },
   "outputs": [
    {
     "data": {
      "text/plain": [
       "<AxesSubplot:>"
      ]
     },
     "execution_count": 52,
     "metadata": {},
     "output_type": "execute_result"
    },
    {
     "data": {
      "image/png": "[encoded data removed]",
      "text/plain": [
       "<Figure size 432x288 with 1 Axes>"
      ]
     },
     "metadata": {
      "needs_background": "light"
     },
     "output_type": "display_data"
    }
   ],
   "source": [
    "x=np.arange(0,4)\n",
    "\n",
    "sns.barplot(x=x,y=binom.pmf(n=2,k=x,p=0.9))"
   ]
  },
  {
   "cell_type": "code",
   "execution_count": 53,
   "id": "6c2eb9ca",
   "metadata": {
    "hidden": true
   },
   "outputs": [
    {
     "data": {
      "text/plain": [
       "<AxesSubplot:>"
      ]
     },
     "execution_count": 53,
     "metadata": {},
     "output_type": "execute_result"
    },
    {
     "data": {
      "image/png": "[encoded data removed]",
      "text/plain": [
       "<Figure size 432x288 with 1 Axes>"
      ]
     },
     "metadata": {
      "needs_background": "light"
     },
     "output_type": "display_data"
    }
   ],
   "source": [
    "x=np.arange(0,11)\n",
    "\n",
    "sns.barplot(x=x,y=binom.pmf(n=10,k=x,p=0.1))"
   ]
  },
  {
   "cell_type": "code",
   "execution_count": 54,
   "id": "748101a1",
   "metadata": {
    "hidden": true
   },
   "outputs": [
    {
     "data": {
      "text/plain": [
       "<AxesSubplot:>"
      ]
     },
     "execution_count": 54,
     "metadata": {},
     "output_type": "execute_result"
    },
    {
     "data": {
      "image/png": "[encoded data removed]",
      "text/plain": [
       "<Figure size 432x288 with 1 Axes>"
      ]
     },
     "metadata": {
      "needs_background": "light"
     },
     "output_type": "display_data"
    }
   ],
   "source": [
    "x=np.arange(0,11)\n",
    "\n",
    "sns.barplot(x=x,y=binom.pmf(n=10,k=x,p=0.4))"
   ]
  },
  {
   "cell_type": "code",
   "execution_count": 55,
   "id": "2f535c31",
   "metadata": {
    "hidden": true
   },
   "outputs": [
    {
     "data": {
      "text/plain": [
       "<AxesSubplot:>"
      ]
     },
     "execution_count": 55,
     "metadata": {},
     "output_type": "execute_result"
    },
    {
     "data": {
      "image/png": "[encoded data removed]",
      "text/plain": [
       "<Figure size 432x288 with 1 Axes>"
      ]
     },
     "metadata": {
      "needs_background": "light"
     },
     "output_type": "display_data"
    }
   ],
   "source": [
    "x=np.arange(0,11)\n",
    "\n",
    "sns.barplot(x=x,y=binom.pmf(n=10,k=x,p=0.9))"
   ]
  },
  {
   "cell_type": "markdown",
   "id": "0664a723",
   "metadata": {},
   "source": [
    "# Geometric "
   ]
  },
  {
   "cell_type": "code",
   "execution_count": 61,
   "id": "d7b1a608",
   "metadata": {},
   "outputs": [
    {
     "data": {
      "text/plain": [
       "0.08100000000000002"
      ]
     },
     "execution_count": 61,
     "metadata": {},
     "output_type": "execute_result"
    }
   ],
   "source": [
    "# What is the prob that he/she will clear the interview in the 3rd trial?\n",
    "p=0.1\n",
    "geom.pmf(k=3,p=0.1)"
   ]
  },
  {
   "cell_type": "code",
   "execution_count": 63,
   "id": "60299c1b",
   "metadata": {},
   "outputs": [
    {
     "data": {
      "text/plain": [
       "0.271"
      ]
     },
     "execution_count": 63,
     "metadata": {},
     "output_type": "execute_result"
    }
   ],
   "source": [
    "# What is the prob that he/she will clear the interview within the 3rd trial?\n",
    "p=0.1\n",
    "geom.cdf(k=3,p=0.1)"
   ]
  },
  {
   "cell_type": "code",
   "execution_count": 65,
   "id": "90c6b5e3",
   "metadata": {},
   "outputs": [
    {
     "data": {
      "text/plain": [
       "0.1"
      ]
     },
     "execution_count": 65,
     "metadata": {},
     "output_type": "execute_result"
    }
   ],
   "source": [
    "geom.pmf(k=1,p=0.1)"
   ]
  },
  {
   "cell_type": "code",
   "execution_count": 66,
   "id": "46f66e44",
   "metadata": {},
   "outputs": [
    {
     "data": {
      "text/plain": [
       "0.09000000000000001"
      ]
     },
     "execution_count": 66,
     "metadata": {},
     "output_type": "execute_result"
    }
   ],
   "source": [
    "geom.pmf(k=2,p=0.1)"
   ]
  },
  {
   "cell_type": "code",
   "execution_count": 67,
   "id": "9a126d74",
   "metadata": {},
   "outputs": [
    {
     "data": {
      "text/plain": [
       "0.08100000000000002"
      ]
     },
     "execution_count": 67,
     "metadata": {},
     "output_type": "execute_result"
    }
   ],
   "source": [
    "geom.pmf(k=3,p=0.1)"
   ]
  },
  {
   "cell_type": "code",
   "execution_count": 68,
   "id": "195872da",
   "metadata": {},
   "outputs": [
    {
     "data": {
      "text/plain": [
       "0.271"
      ]
     },
     "execution_count": 68,
     "metadata": {},
     "output_type": "execute_result"
    }
   ],
   "source": [
    "geom.pmf(k=1,p=0.1)+geom.pmf(k=2,p=0.1)+geom.pmf(k=3,p=0.1)"
   ]
  },
  {
   "cell_type": "code",
   "execution_count": null,
   "id": "d40b60f9",
   "metadata": {},
   "outputs": [],
   "source": []
  }
 ],
 "metadata": {
  "kernelspec": {
   "display_name": "Python 3 (ipykernel)",
   "language": "python",
   "name": "python3"
  },
  "language_info": {
   "codemirror_mode": {
    "name": "ipython",
    "version": 3
   },
   "file_extension": ".py",
   "mimetype": "text/x-python",
   "name": "python",
   "nbconvert_exporter": "python",
   "pygments_lexer": "ipython3",
   "version": "3.9.7"
  },
  "varInspector": {
   "cols": {
    "lenName": 16,
    "lenType": 16,
    "lenVar": 40
   },
   "kernels_config": {
    "python": {
     "delete_cmd_postfix": "",
     "delete_cmd_prefix": "del ",
     "library": "var_list.py",
     "varRefreshCmd": "print(var_dic_list())"
    },
    "r": {
     "delete_cmd_postfix": ") ",
     "delete_cmd_prefix": "rm(",
     "library": "var_list.r",
     "varRefreshCmd": "cat(var_dic_list()) "
    }
   },
   "types_to_exclude": [
    "module",
    "function",
    "builtin_function_or_method",
    "instance",
    "_Feature"
   ],
   "window_display": false
  }
 },
 "nbformat": 4,
 "nbformat_minor": 5
}
