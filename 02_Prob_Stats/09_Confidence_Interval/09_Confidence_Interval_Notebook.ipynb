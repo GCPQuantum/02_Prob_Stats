{
 "cells": [
  {
   "cell_type": "markdown",
   "id": "e4bd2df6",
   "metadata": {
    "heading_collapsed": true
   },
   "source": [
    "## Importing Libraries"
   ]
  },
  {
   "cell_type": "code",
   "execution_count": 1,
   "id": "1916a5e4",
   "metadata": {
    "hidden": true
   },
   "outputs": [],
   "source": [
    "import numpy as np\n",
    "import pandas as pd\n",
    "import seaborn as sns\n",
    "import matplotlib.pyplot as plt\n",
    "\n",
    "from scipy.stats import norm\n"
   ]
  },
  {
   "cell_type": "markdown",
   "id": "a814e78a",
   "metadata": {
    "heading_collapsed": true
   },
   "source": [
    "## Gaussian and CLT Recap"
   ]
  },
  {
   "cell_type": "markdown",
   "id": "978a3f9d",
   "metadata": {
    "hidden": true
   },
   "source": [
    "### Purchase time\n"
   ]
  },
  {
   "cell_type": "markdown",
   "id": "f94e4ee4",
   "metadata": {
    "hidden": true
   },
   "source": [
    "The average time taken for customers to complete a purchase is 4 minutes with a standard deviation of 1 minute. Find the probability that a randomly selected customer will complete a purchase within 6 minutes? Assume Gaussian"
   ]
  },
  {
   "cell_type": "code",
   "execution_count": 2,
   "id": "c9ebe876",
   "metadata": {
    "hidden": true
   },
   "outputs": [
    {
     "data": {
      "text/plain": [
       "0.9772498680518208"
      ]
     },
     "execution_count": 2,
     "metadata": {},
     "output_type": "execute_result"
    }
   ],
   "source": [
    "norm.cdf(x=6,loc=4,scale=1)"
   ]
  },
  {
   "cell_type": "markdown",
   "id": "ab21dd6a",
   "metadata": {
    "hidden": true
   },
   "source": [
    "What is the probability that the average time of the next 5 customers is less than 6 minutes?"
   ]
  },
  {
   "cell_type": "code",
   "execution_count": 5,
   "id": "749f11de",
   "metadata": {
    "hidden": true
   },
   "outputs": [
    {
     "data": {
      "text/plain": [
       "0.9999961278917845"
      ]
     },
     "execution_count": 5,
     "metadata": {},
     "output_type": "execute_result"
    }
   ],
   "source": [
    "norm.cdf(x=6,loc=4,scale=(1/np.sqrt(5)))"
   ]
  },
  {
   "cell_type": "markdown",
   "id": "6ea6bfc1",
   "metadata": {
    "hidden": true
   },
   "source": [
    "### Purchase amount"
   ]
  },
  {
   "cell_type": "markdown",
   "id": "e75ef52d",
   "metadata": {
    "hidden": true
   },
   "source": [
    "The average order value on an e-commerce website is 50, with a standard deviation of 5. What is the probability that a randomly selected order will have a value exceeding 60?"
   ]
  },
  {
   "cell_type": "code",
   "execution_count": 3,
   "id": "656f2443",
   "metadata": {
    "hidden": true
   },
   "outputs": [
    {
     "data": {
      "text/plain": [
       "0.02275013194817921"
      ]
     },
     "execution_count": 3,
     "metadata": {},
     "output_type": "execute_result"
    }
   ],
   "source": [
    "1-norm.cdf(x=60,loc=50,scale=5)"
   ]
  },
  {
   "cell_type": "markdown",
   "id": "43708027",
   "metadata": {
    "hidden": true
   },
   "source": [
    "What is the probability that the average of the next 3 orders exceeds $60?"
   ]
  },
  {
   "cell_type": "code",
   "execution_count": 6,
   "id": "deefc802",
   "metadata": {
    "hidden": true
   },
   "outputs": [
    {
     "data": {
      "text/plain": [
       "0.00026600275256960515"
      ]
     },
     "execution_count": 6,
     "metadata": {},
     "output_type": "execute_result"
    }
   ],
   "source": [
    "1-norm.cdf(x=60,loc=50,scale=(5/np.sqrt(3)))"
   ]
  },
  {
   "cell_type": "markdown",
   "id": "c1cb21a0",
   "metadata": {
    "heading_collapsed": true,
    "hidden": true
   },
   "source": [
    "### Body temperature"
   ]
  },
  {
   "cell_type": "markdown",
   "id": "a2d0b1cc",
   "metadata": {
    "hidden": true
   },
   "source": [
    "Average body temperature has a mean of 98.6°F and a standard deviation of 0.5°F. What is the probability that a randomly chosen patient has a body temperature higher than 99.5°F?"
   ]
  },
  {
   "cell_type": "code",
   "execution_count": 4,
   "id": "796898b6",
   "metadata": {
    "hidden": true
   },
   "outputs": [
    {
     "data": {
      "text/plain": [
       "0.03593031911292488"
      ]
     },
     "execution_count": 4,
     "metadata": {},
     "output_type": "execute_result"
    }
   ],
   "source": [
    "1-norm.cdf(x=99.5,loc=98.6,scale=0.5)"
   ]
  },
  {
   "cell_type": "code",
   "execution_count": null,
   "id": "dfb86723",
   "metadata": {
    "hidden": true
   },
   "outputs": [],
   "source": []
  },
  {
   "cell_type": "markdown",
   "id": "7a49d717",
   "metadata": {
    "heading_collapsed": true
   },
   "source": [
    "## Confidence Interval using CLT"
   ]
  },
  {
   "cell_type": "markdown",
   "id": "04f40543",
   "metadata": {
    "hidden": true
   },
   "source": [
    "### Height example"
   ]
  },
  {
   "cell_type": "markdown",
   "id": "63f8f59e",
   "metadata": {
    "hidden": true
   },
   "source": [
    "The mean height of a sample of 100 adults was found to be 65 inches, with a standard deviation of 2.5 inches."
   ]
  },
  {
   "cell_type": "code",
   "execution_count": 12,
   "id": "aa59fda0",
   "metadata": {
    "hidden": true
   },
   "outputs": [
    {
     "data": {
      "text/plain": [
       "0.25"
      ]
     },
     "execution_count": 12,
     "metadata": {},
     "output_type": "execute_result"
    }
   ],
   "source": [
    "std_error= 2.5/np.sqrt(100)\n",
    "std_error"
   ]
  },
  {
   "cell_type": "code",
   "execution_count": 13,
   "id": "624674c7",
   "metadata": {
    "hidden": true
   },
   "outputs": [
    {
     "data": {
      "text/plain": [
       "-1.9599639845400545"
      ]
     },
     "execution_count": 13,
     "metadata": {},
     "output_type": "execute_result"
    }
   ],
   "source": [
    "z1=norm.ppf(0.025)\n",
    "z1"
   ]
  },
  {
   "cell_type": "code",
   "execution_count": 14,
   "id": "8faf333d",
   "metadata": {
    "hidden": true
   },
   "outputs": [
    {
     "data": {
      "text/plain": [
       "1.959963984540054"
      ]
     },
     "execution_count": 14,
     "metadata": {},
     "output_type": "execute_result"
    }
   ],
   "source": [
    "z2=norm.ppf(0.975)\n",
    "z2"
   ]
  },
  {
   "cell_type": "code",
   "execution_count": 15,
   "id": "58d78407",
   "metadata": {
    "hidden": true
   },
   "outputs": [
    {
     "data": {
      "text/plain": [
       "64.51000900386498"
      ]
     },
     "execution_count": 15,
     "metadata": {},
     "output_type": "execute_result"
    }
   ],
   "source": [
    "x1=65+(z1*std_error)\n",
    "x1"
   ]
  },
  {
   "cell_type": "code",
   "execution_count": 16,
   "id": "38114bec",
   "metadata": {
    "hidden": true
   },
   "outputs": [
    {
     "data": {
      "text/plain": [
       "65.48999099613502"
      ]
     },
     "execution_count": 16,
     "metadata": {},
     "output_type": "execute_result"
    }
   ],
   "source": [
    "x2=65+(z2*std_error)\n",
    "x2"
   ]
  },
  {
   "cell_type": "markdown",
   "id": "cf5dfb7e",
   "metadata": {
    "hidden": true
   },
   "source": [
    " ##### 95 % Confidence Interval --> [64.51,65.48]"
   ]
  },
  {
   "cell_type": "code",
   "execution_count": 17,
   "id": "acd97930",
   "metadata": {
    "hidden": true
   },
   "outputs": [
    {
     "data": {
      "text/plain": [
       "(64.51000900386498, 65.48999099613502)"
      ]
     },
     "execution_count": 17,
     "metadata": {},
     "output_type": "execute_result"
    }
   ],
   "source": [
    "norm.interval(0.95,loc=65,scale=std_error)"
   ]
  },
  {
   "cell_type": "markdown",
   "id": "8b8b142b",
   "metadata": {
    "hidden": true
   },
   "source": [
    "### Recovery days"
   ]
  },
  {
   "cell_type": "markdown",
   "id": "a5fc75fb",
   "metadata": {
    "hidden": true
   },
   "source": [
    "The sample mean recovery time of 100 patients after taking a drug was seen to be 10.5 days with a standard deviation of 2 days. Find the 95% confidence interval of the true mean."
   ]
  },
  {
   "cell_type": "code",
   "execution_count": 19,
   "id": "9b4ee840",
   "metadata": {
    "hidden": true
   },
   "outputs": [
    {
     "data": {
      "text/plain": [
       "(10.10800720309199, 10.89199279690801)"
      ]
     },
     "execution_count": 19,
     "metadata": {},
     "output_type": "execute_result"
    }
   ],
   "source": [
    "norm.interval(0.95,loc=10.5,scale=(2/np.sqrt(100)))"
   ]
  },
  {
   "cell_type": "code",
   "execution_count": 25,
   "id": "24bbf243",
   "metadata": {
    "hidden": true
   },
   "outputs": [
    {
     "data": {
      "text/plain": [
       "0.2"
      ]
     },
     "execution_count": 25,
     "metadata": {},
     "output_type": "execute_result"
    }
   ],
   "source": [
    "std_error= 2/np.sqrt(100)\n",
    "std_error"
   ]
  },
  {
   "cell_type": "code",
   "execution_count": 26,
   "id": "086580c8",
   "metadata": {
    "hidden": true
   },
   "outputs": [],
   "source": [
    "z1=norm.ppf(0.025)\n",
    "z2=norm.ppf(0.975)"
   ]
  },
  {
   "cell_type": "code",
   "execution_count": 27,
   "id": "a9a646b1",
   "metadata": {
    "hidden": true
   },
   "outputs": [
    {
     "data": {
      "text/plain": [
       "10.108007203091988"
      ]
     },
     "execution_count": 27,
     "metadata": {},
     "output_type": "execute_result"
    }
   ],
   "source": [
    "x1=10.5+(z1*std_error)\n",
    "x1"
   ]
  },
  {
   "cell_type": "code",
   "execution_count": 28,
   "id": "150b13c9",
   "metadata": {
    "hidden": true
   },
   "outputs": [
    {
     "data": {
      "text/plain": [
       "10.89199279690801"
      ]
     },
     "execution_count": 28,
     "metadata": {},
     "output_type": "execute_result"
    }
   ],
   "source": [
    "x2=10.5+(z2*std_error)\n",
    "x2"
   ]
  },
  {
   "cell_type": "markdown",
   "id": "7e972c9d",
   "metadata": {
    "hidden": true
   },
   "source": [
    "### Youtube watch hours"
   ]
  },
  {
   "cell_type": "markdown",
   "id": "dcf96835",
   "metadata": {
    "hidden": true
   },
   "source": [
    "The mean Youtube watch time of a sample of 100 students was found to be 3.5 hours, with a standard deviation of 1 hour. Construct a 90% confidence interval for the true watch time."
   ]
  },
  {
   "cell_type": "code",
   "execution_count": 29,
   "id": "e24554b4",
   "metadata": {
    "hidden": true
   },
   "outputs": [
    {
     "data": {
      "text/plain": [
       "(3.3355146373048528, 3.6644853626951472)"
      ]
     },
     "execution_count": 29,
     "metadata": {},
     "output_type": "execute_result"
    }
   ],
   "source": [
    "norm.interval(0.90,loc=3.5,scale=(1/np.sqrt(100)))"
   ]
  },
  {
   "cell_type": "code",
   "execution_count": null,
   "id": "864fca49",
   "metadata": {
    "hidden": true
   },
   "outputs": [],
   "source": []
  },
  {
   "cell_type": "markdown",
   "id": "bda8e2d3",
   "metadata": {},
   "source": [
    "## Confidence Interval using Bootstrap"
   ]
  },
  {
   "cell_type": "code",
   "execution_count": 30,
   "id": "94bdf175",
   "metadata": {},
   "outputs": [
    {
     "data": {
      "text/plain": [
       "35.0"
      ]
     },
     "execution_count": 30,
     "metadata": {},
     "output_type": "execute_result"
    }
   ],
   "source": [
    "survey_1 = [35, 36, 33, 37, 34, 35]\n",
    "np.mean(survey_1)"
   ]
  },
  {
   "cell_type": "code",
   "execution_count": 31,
   "id": "098aa444",
   "metadata": {},
   "outputs": [
    {
     "data": {
      "text/plain": [
       "35.0"
      ]
     },
     "execution_count": 31,
     "metadata": {},
     "output_type": "execute_result"
    }
   ],
   "source": [
    "survey_2 = [20, 37, 17, 50, 53, 33]\n",
    "np.mean(survey_2)"
   ]
  },
  {
   "cell_type": "code",
   "execution_count": 82,
   "id": "bc21e4e7",
   "metadata": {},
   "outputs": [
    {
     "data": {
      "text/plain": [
       "array([37, 37, 37, 35, 35, 33, 37, 36, 35, 36])"
      ]
     },
     "execution_count": 82,
     "metadata": {},
     "output_type": "execute_result"
    }
   ],
   "source": [
    "np.random.choice(survey_1,size=10)\n"
   ]
  },
  {
   "cell_type": "code",
   "execution_count": 126,
   "id": "89ce57c7",
   "metadata": {},
   "outputs": [
    {
     "data": {
      "text/plain": [
       "35.666666666666664"
      ]
     },
     "execution_count": 126,
     "metadata": {},
     "output_type": "execute_result"
    }
   ],
   "source": [
    "bootstrapped_sample=np.random.choice(survey_1,size=6)\n",
    "np.mean(bootstrapped_sample)"
   ]
  },
  {
   "cell_type": "code",
   "execution_count": 147,
   "id": "b6621e45",
   "metadata": {},
   "outputs": [
    {
     "data": {
      "text/plain": [
       "32.166666666666664"
      ]
     },
     "execution_count": 147,
     "metadata": {},
     "output_type": "execute_result"
    }
   ],
   "source": [
    "bootstrapped_sample_2=np.random.choice(survey_2,size=6)\n",
    "np.mean(bootstrapped_sample_2)"
   ]
  },
  {
   "cell_type": "code",
   "execution_count": 150,
   "id": "56a44529",
   "metadata": {},
   "outputs": [],
   "source": [
    "bootstrapped_sample_mean=[]\n",
    "for i in range(10000):\n",
    "    bootstrapped_sample=np.random.choice(survey_1,size=6)\n",
    "    bootstrapped_sample_mean.append(np.mean(bootstrapped_sample))\n",
    "    "
   ]
  },
  {
   "cell_type": "code",
   "execution_count": 151,
   "id": "d8e217eb",
   "metadata": {},
   "outputs": [
    {
     "data": {
      "text/plain": [
       "<AxesSubplot:ylabel='Count'>"
      ]
     },
     "execution_count": 151,
     "metadata": {},
     "output_type": "execute_result"
    },
    {
     "data": {
      "image/png": "[encoded data removed]",
      "text/plain": [
       "<Figure size 432x288 with 1 Axes>"
      ]
     },
     "metadata": {
      "needs_background": "light"
     },
     "output_type": "display_data"
    }
   ],
   "source": [
    "sns.histplot(bootstrapped_sample_mean)"
   ]
  },
  {
   "cell_type": "code",
   "execution_count": 152,
   "id": "4f6be0e7",
   "metadata": {},
   "outputs": [
    {
     "data": {
      "text/plain": [
       "<AxesSubplot:ylabel='Density'>"
      ]
     },
     "execution_count": 152,
     "metadata": {},
     "output_type": "execute_result"
    },
    {
     "data": {
      "image/png": "[encoded data removed]",
      "text/plain": [
       "<Figure size 432x288 with 1 Axes>"
      ]
     },
     "metadata": {
      "needs_background": "light"
     },
     "output_type": "display_data"
    }
   ],
   "source": [
    "sns.kdeplot(bootstrapped_sample_mean)"
   ]
  },
  {
   "cell_type": "code",
   "execution_count": 153,
   "id": "e372dfa7",
   "metadata": {},
   "outputs": [],
   "source": [
    "bootstrapped_sample_mean_2=[]\n",
    "for i in range(10000):\n",
    "    bootstrapped_sample_2=np.random.choice(survey_2,size=6)\n",
    "    bootstrapped_sample_mean_2.append(np.mean(bootstrapped_sample_2))\n",
    "    "
   ]
  },
  {
   "cell_type": "code",
   "execution_count": 154,
   "id": "1614178b",
   "metadata": {},
   "outputs": [
    {
     "data": {
      "text/plain": [
       "<AxesSubplot:ylabel='Count'>"
      ]
     },
     "execution_count": 154,
     "metadata": {},
     "output_type": "execute_result"
    },
    {
     "data": {
      "image/png": "[encoded data removed]",
      "text/plain": [
       "<Figure size 432x288 with 1 Axes>"
      ]
     },
     "metadata": {
      "needs_background": "light"
     },
     "output_type": "display_data"
    }
   ],
   "source": [
    "sns.histplot(bootstrapped_sample_mean_2)"
   ]
  },
  {
   "cell_type": "code",
   "execution_count": 155,
   "id": "d0edd182",
   "metadata": {},
   "outputs": [
    {
     "data": {
      "text/plain": [
       "<AxesSubplot:ylabel='Density'>"
      ]
     },
     "execution_count": 155,
     "metadata": {},
     "output_type": "execute_result"
    },
    {
     "data": {
      "image/png": "[encoded data removed]",
      "text/plain": [
       "<Figure size 432x288 with 1 Axes>"
      ]
     },
     "metadata": {
      "needs_background": "light"
     },
     "output_type": "display_data"
    }
   ],
   "source": [
    "sns.kdeplot(bootstrapped_sample_mean_2)"
   ]
  },
  {
   "cell_type": "code",
   "execution_count": 156,
   "id": "da222595",
   "metadata": {},
   "outputs": [
    {
     "data": {
      "text/plain": [
       "34.0"
      ]
     },
     "execution_count": 156,
     "metadata": {},
     "output_type": "execute_result"
    }
   ],
   "source": [
    "np.percentile(bootstrapped_sample_mean,2.5)"
   ]
  },
  {
   "cell_type": "code",
   "execution_count": 157,
   "id": "a19a66d2",
   "metadata": {},
   "outputs": [
    {
     "data": {
      "text/plain": [
       "36.0"
      ]
     },
     "execution_count": 157,
     "metadata": {},
     "output_type": "execute_result"
    }
   ],
   "source": [
    "np.percentile(bootstrapped_sample_mean,97.5)"
   ]
  },
  {
   "cell_type": "markdown",
   "id": "aec8d8b1",
   "metadata": {},
   "source": [
    "##### For Survey 1 --> 95 % CI [34.0,36.0]"
   ]
  },
  {
   "cell_type": "code",
   "execution_count": 158,
   "id": "c294ce14",
   "metadata": {},
   "outputs": [
    {
     "data": {
      "text/plain": [
       "24.0"
      ]
     },
     "execution_count": 158,
     "metadata": {},
     "output_type": "execute_result"
    }
   ],
   "source": [
    "np.percentile(bootstrapped_sample_mean_2,2.5)"
   ]
  },
  {
   "cell_type": "code",
   "execution_count": 159,
   "id": "84d0ee49",
   "metadata": {},
   "outputs": [
    {
     "data": {
      "text/plain": [
       "46.0"
      ]
     },
     "execution_count": 159,
     "metadata": {},
     "output_type": "execute_result"
    }
   ],
   "source": [
    "np.percentile(bootstrapped_sample_mean_2,97.5)"
   ]
  },
  {
   "cell_type": "markdown",
   "id": "3d02501a",
   "metadata": {},
   "source": [
    "##### For Survey 1 --> 95 % CI [24.0, 46.0]"
   ]
  },
  {
   "cell_type": "code",
   "execution_count": null,
   "id": "954540c3",
   "metadata": {},
   "outputs": [],
   "source": []
  },
  {
   "cell_type": "code",
   "execution_count": 160,
   "id": "7dc8d3b7",
   "metadata": {},
   "outputs": [
    {
     "data": {
      "text/html": [
       "<div>\n",
       "<style scoped>\n",
       "    .dataframe tbody tr th:only-of-type {\n",
       "        vertical-align: middle;\n",
       "    }\n",
       "\n",
       "    .dataframe tbody tr th {\n",
       "        vertical-align: top;\n",
       "    }\n",
       "\n",
       "    .dataframe thead th {\n",
       "        text-align: right;\n",
       "    }\n",
       "</style>\n",
       "<table border=\"1\" class=\"dataframe\">\n",
       "  <thead>\n",
       "    <tr style=\"text-align: right;\">\n",
       "      <th></th>\n",
       "      <th>Runs</th>\n",
       "      <th>Mins</th>\n",
       "      <th>BF</th>\n",
       "      <th>4s</th>\n",
       "      <th>6s</th>\n",
       "      <th>SR</th>\n",
       "      <th>Pos</th>\n",
       "      <th>Dismissal</th>\n",
       "      <th>Inns</th>\n",
       "      <th>Unnamed: 9</th>\n",
       "      <th>Opposition</th>\n",
       "      <th>Ground</th>\n",
       "      <th>Start Date</th>\n",
       "      <th>Unnamed: 13</th>\n",
       "    </tr>\n",
       "  </thead>\n",
       "  <tbody>\n",
       "    <tr>\n",
       "      <th>0</th>\n",
       "      <td>1</td>\n",
       "      <td>5</td>\n",
       "      <td>2</td>\n",
       "      <td>0</td>\n",
       "      <td>0</td>\n",
       "      <td>50.00</td>\n",
       "      <td>7</td>\n",
       "      <td>lbw</td>\n",
       "      <td>1</td>\n",
       "      <td>NaN</td>\n",
       "      <td>v Pakistan</td>\n",
       "      <td>Mohali</td>\n",
       "      <td>1 Apr 1999</td>\n",
       "      <td>ODI # 1427</td>\n",
       "    </tr>\n",
       "    <tr>\n",
       "      <th>1</th>\n",
       "      <td>19</td>\n",
       "      <td>18</td>\n",
       "      <td>24</td>\n",
       "      <td>0</td>\n",
       "      <td>1</td>\n",
       "      <td>79.16</td>\n",
       "      <td>6</td>\n",
       "      <td>caught</td>\n",
       "      <td>1</td>\n",
       "      <td>NaN</td>\n",
       "      <td>v Zimbabwe</td>\n",
       "      <td>Rajkot</td>\n",
       "      <td>14 Dec 2000</td>\n",
       "      <td>ODI # 1660</td>\n",
       "    </tr>\n",
       "    <tr>\n",
       "      <th>2</th>\n",
       "      <td>58</td>\n",
       "      <td>62</td>\n",
       "      <td>54</td>\n",
       "      <td>8</td>\n",
       "      <td>0</td>\n",
       "      <td>107.40</td>\n",
       "      <td>6</td>\n",
       "      <td>bowled</td>\n",
       "      <td>1</td>\n",
       "      <td>NaN</td>\n",
       "      <td>v Australia</td>\n",
       "      <td>Bengaluru</td>\n",
       "      <td>25 Mar 2001</td>\n",
       "      <td>ODI # 1696</td>\n",
       "    </tr>\n",
       "    <tr>\n",
       "      <th>3</th>\n",
       "      <td>2</td>\n",
       "      <td>7</td>\n",
       "      <td>7</td>\n",
       "      <td>0</td>\n",
       "      <td>0</td>\n",
       "      <td>28.57</td>\n",
       "      <td>6</td>\n",
       "      <td>caught</td>\n",
       "      <td>2</td>\n",
       "      <td>NaN</td>\n",
       "      <td>v Zimbabwe</td>\n",
       "      <td>Bulawayo</td>\n",
       "      <td>27 Jun 2001</td>\n",
       "      <td>ODI # 1730</td>\n",
       "    </tr>\n",
       "    <tr>\n",
       "      <th>4</th>\n",
       "      <td>11</td>\n",
       "      <td>19</td>\n",
       "      <td>16</td>\n",
       "      <td>1</td>\n",
       "      <td>0</td>\n",
       "      <td>68.75</td>\n",
       "      <td>6</td>\n",
       "      <td>not out</td>\n",
       "      <td>2</td>\n",
       "      <td>NaN</td>\n",
       "      <td>v West Indies</td>\n",
       "      <td>Bulawayo</td>\n",
       "      <td>30 Jun 2001</td>\n",
       "      <td>ODI # 1731</td>\n",
       "    </tr>\n",
       "    <tr>\n",
       "      <th>...</th>\n",
       "      <td>...</td>\n",
       "      <td>...</td>\n",
       "      <td>...</td>\n",
       "      <td>...</td>\n",
       "      <td>...</td>\n",
       "      <td>...</td>\n",
       "      <td>...</td>\n",
       "      <td>...</td>\n",
       "      <td>...</td>\n",
       "      <td>...</td>\n",
       "      <td>...</td>\n",
       "      <td>...</td>\n",
       "      <td>...</td>\n",
       "      <td>...</td>\n",
       "    </tr>\n",
       "    <tr>\n",
       "      <th>240</th>\n",
       "      <td>15</td>\n",
       "      <td>21</td>\n",
       "      <td>15</td>\n",
       "      <td>2</td>\n",
       "      <td>0</td>\n",
       "      <td>100.00</td>\n",
       "      <td>2</td>\n",
       "      <td>caught</td>\n",
       "      <td>1</td>\n",
       "      <td>NaN</td>\n",
       "      <td>v Sri Lanka</td>\n",
       "      <td>Hambantota</td>\n",
       "      <td>24 Jul 2012</td>\n",
       "      <td>ODI # 3292</td>\n",
       "    </tr>\n",
       "    <tr>\n",
       "      <th>241</th>\n",
       "      <td>3</td>\n",
       "      <td>6</td>\n",
       "      <td>6</td>\n",
       "      <td>0</td>\n",
       "      <td>0</td>\n",
       "      <td>50.00</td>\n",
       "      <td>2</td>\n",
       "      <td>caught</td>\n",
       "      <td>2</td>\n",
       "      <td>NaN</td>\n",
       "      <td>v Sri Lanka</td>\n",
       "      <td>Colombo (RPS)</td>\n",
       "      <td>28 Jul 2012</td>\n",
       "      <td>ODI # 3293</td>\n",
       "    </tr>\n",
       "    <tr>\n",
       "      <th>242</th>\n",
       "      <td>34</td>\n",
       "      <td>46</td>\n",
       "      <td>29</td>\n",
       "      <td>6</td>\n",
       "      <td>0</td>\n",
       "      <td>117.24</td>\n",
       "      <td>2</td>\n",
       "      <td>caught</td>\n",
       "      <td>2</td>\n",
       "      <td>NaN</td>\n",
       "      <td>v Sri Lanka</td>\n",
       "      <td>Colombo (RPS)</td>\n",
       "      <td>31 Jul 2012</td>\n",
       "      <td>ODI # 3294</td>\n",
       "    </tr>\n",
       "    <tr>\n",
       "      <th>243</th>\n",
       "      <td>4</td>\n",
       "      <td>20</td>\n",
       "      <td>11</td>\n",
       "      <td>1</td>\n",
       "      <td>0</td>\n",
       "      <td>36.36</td>\n",
       "      <td>2</td>\n",
       "      <td>bowled</td>\n",
       "      <td>1</td>\n",
       "      <td>NaN</td>\n",
       "      <td>v Pakistan</td>\n",
       "      <td>Chennai</td>\n",
       "      <td>30 Dec 2012</td>\n",
       "      <td>ODI # 3314</td>\n",
       "    </tr>\n",
       "    <tr>\n",
       "      <th>244</th>\n",
       "      <td>31</td>\n",
       "      <td>70</td>\n",
       "      <td>43</td>\n",
       "      <td>3</td>\n",
       "      <td>0</td>\n",
       "      <td>72.09</td>\n",
       "      <td>2</td>\n",
       "      <td>lbw</td>\n",
       "      <td>2</td>\n",
       "      <td>NaN</td>\n",
       "      <td>v Pakistan</td>\n",
       "      <td>Kolkata</td>\n",
       "      <td>3 Jan 2013</td>\n",
       "      <td>ODI # 3315</td>\n",
       "    </tr>\n",
       "  </tbody>\n",
       "</table>\n",
       "<p>245 rows × 14 columns</p>\n",
       "</div>"
      ],
      "text/plain": [
       "     Runs Mins  BF  4s  6s      SR  Pos Dismissal  Inns  Unnamed: 9  \\\n",
       "0       1    5   2   0   0   50.00    7       lbw     1         NaN   \n",
       "1      19   18  24   0   1   79.16    6    caught     1         NaN   \n",
       "2      58   62  54   8   0  107.40    6    bowled     1         NaN   \n",
       "3       2    7   7   0   0   28.57    6    caught     2         NaN   \n",
       "4      11   19  16   1   0   68.75    6   not out     2         NaN   \n",
       "..    ...  ...  ..  ..  ..     ...  ...       ...   ...         ...   \n",
       "240    15   21  15   2   0  100.00    2    caught     1         NaN   \n",
       "241     3    6   6   0   0   50.00    2    caught     2         NaN   \n",
       "242    34   46  29   6   0  117.24    2    caught     2         NaN   \n",
       "243     4   20  11   1   0   36.36    2    bowled     1         NaN   \n",
       "244    31   70  43   3   0   72.09    2       lbw     2         NaN   \n",
       "\n",
       "        Opposition         Ground   Start Date Unnamed: 13  \n",
       "0       v Pakistan         Mohali   1 Apr 1999  ODI # 1427  \n",
       "1       v Zimbabwe         Rajkot  14 Dec 2000  ODI # 1660  \n",
       "2      v Australia      Bengaluru  25 Mar 2001  ODI # 1696  \n",
       "3       v Zimbabwe       Bulawayo  27 Jun 2001  ODI # 1730  \n",
       "4    v West Indies       Bulawayo  30 Jun 2001  ODI # 1731  \n",
       "..             ...            ...          ...         ...  \n",
       "240    v Sri Lanka     Hambantota  24 Jul 2012  ODI # 3292  \n",
       "241    v Sri Lanka  Colombo (RPS)  28 Jul 2012  ODI # 3293  \n",
       "242    v Sri Lanka  Colombo (RPS)  31 Jul 2012  ODI # 3294  \n",
       "243     v Pakistan        Chennai  30 Dec 2012  ODI # 3314  \n",
       "244     v Pakistan        Kolkata   3 Jan 2013  ODI # 3315  \n",
       "\n",
       "[245 rows x 14 columns]"
      ]
     },
     "execution_count": 160,
     "metadata": {},
     "output_type": "execute_result"
    }
   ],
   "source": [
    "df=pd.read_csv(\"sehwag.csv\")\n",
    "df"
   ]
  },
  {
   "cell_type": "code",
   "execution_count": 162,
   "id": "f3eb6b6a",
   "metadata": {},
   "outputs": [],
   "source": [
    "sample_size=6"
   ]
  },
  {
   "cell_type": "code",
   "execution_count": 163,
   "id": "6d90c689",
   "metadata": {},
   "outputs": [
    {
     "data": {
      "text/plain": [
       "(245,)"
      ]
     },
     "execution_count": 163,
     "metadata": {},
     "output_type": "execute_result"
    }
   ],
   "source": [
    "df[\"Runs\"].shape"
   ]
  },
  {
   "cell_type": "code",
   "execution_count": 164,
   "id": "60c0b9df",
   "metadata": {},
   "outputs": [
    {
     "data": {
      "text/plain": [
       "12.333333333333334"
      ]
     },
     "execution_count": 164,
     "metadata": {},
     "output_type": "execute_result"
    }
   ],
   "source": [
    "df[\"Runs\"].sample(sample_size).mean()"
   ]
  },
  {
   "cell_type": "code",
   "execution_count": 167,
   "id": "b2f3a485",
   "metadata": {},
   "outputs": [
    {
     "data": {
      "text/plain": [
       "Text(0, 0.5, 'sample_mean')"
      ]
     },
     "execution_count": 167,
     "metadata": {},
     "output_type": "execute_result"
    },
    {
     "data": {
      "image/png": "[encoded data removed]",
      "text/plain": [
       "<Figure size 432x288 with 1 Axes>"
      ]
     },
     "metadata": {
      "needs_background": "light"
     },
     "output_type": "display_data"
    }
   ],
   "source": [
    "sample_size_trend=[]\n",
    "for i in range(5,246):\n",
    "    sample_mean= df[\"Runs\"].sample(i).mean()\n",
    "    sample_size_trend.append(sample_mean)\n",
    "plt.plot(sample_size_trend)\n",
    "plt.xlabel(\"sample_size\")\n",
    "plt.ylabel(\"sample_mean\")"
   ]
  },
  {
   "cell_type": "code",
   "execution_count": 168,
   "id": "897dca64",
   "metadata": {},
   "outputs": [
    {
     "data": {
      "text/plain": [
       "Text(0, 0.5, 'sample_mean')"
      ]
     },
     "execution_count": 168,
     "metadata": {},
     "output_type": "execute_result"
    },
    {
     "data": {
      "image/png": "[encoded data removed]",
      "text/plain": [
       "<Figure size 432x288 with 1 Axes>"
      ]
     },
     "metadata": {
      "needs_background": "light"
     },
     "output_type": "display_data"
    }
   ],
   "source": [
    "sample_size_trend=[]\n",
    "for j in range(20):\n",
    "    for i in range(5,246):\n",
    "        sample_mean= df[\"Runs\"].sample(i).mean()\n",
    "        sample_size_trend.append(sample_mean)\n",
    "    plt.plot(sample_size_trend)\n",
    "    sample_size_trend=[]\n",
    "plt.xlabel(\"sample_size\")\n",
    "plt.ylabel(\"sample_mean\")"
   ]
  },
  {
   "cell_type": "code",
   "execution_count": null,
   "id": "3312ca35",
   "metadata": {},
   "outputs": [],
   "source": []
  }
 ],
 "metadata": {
  "kernelspec": {
   "display_name": "Python 3 (ipykernel)",
   "language": "python",
   "name": "python3"
  },
  "language_info": {
   "codemirror_mode": {
    "name": "ipython",
    "version": 3
   },
   "file_extension": ".py",
   "mimetype": "text/x-python",
   "name": "python",
   "nbconvert_exporter": "python",
   "pygments_lexer": "ipython3",
   "version": "3.9.7"
  },
  "varInspector": {
   "cols": {
    "lenName": 16,
    "lenType": 16,
    "lenVar": 40
   },
   "kernels_config": {
    "python": {
     "delete_cmd_postfix": "",
     "delete_cmd_prefix": "del ",
     "library": "var_list.py",
     "varRefreshCmd": "print(var_dic_list())"
    },
    "r": {
     "delete_cmd_postfix": ") ",
     "delete_cmd_prefix": "rm(",
     "library": "var_list.r",
     "varRefreshCmd": "cat(var_dic_list()) "
    }
   },
   "types_to_exclude": [
    "module",
    "function",
    "builtin_function_or_method",
    "instance",
    "_Feature"
   ],
   "window_display": false
  }
 },
 "nbformat": 4,
 "nbformat_minor": 5
}
